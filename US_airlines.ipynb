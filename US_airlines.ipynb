{
  "nbformat": 4,
  "nbformat_minor": 0,
  "metadata": {
    "colab": {
      "name": "US_airlines.ipynb",
      "version": "0.3.2",
      "provenance": [],
      "collapsed_sections": [],
      "toc_visible": true
    },
    "kernelspec": {
      "name": "python3",
      "display_name": "Python 3"
    },
    "accelerator": "GPU"
  },
  "cells": [
    {
      "cell_type": "markdown",
      "metadata": {
        "id": "RyzeXZBLVc05",
        "colab_type": "text"
      },
      "source": [
        "# **CUSTOMER REVIEW ANALYSIS OF USA AIRLINE INDUSTRY**"
      ]
    },
    {
      "cell_type": "code",
      "metadata": {
        "id": "c_ew0KU1VX4x",
        "colab_type": "code",
        "outputId": "dda3cea2-1e0e-464a-ba93-f544f494e0ad",
        "colab": {
          "base_uri": "https://localhost:8080/",
          "height": 34
        }
      },
      "source": [
        "\"\"\"\n",
        "CREATED ON MONDAY JUNE 26, 2019 \n",
        "\n",
        "@ AUTHOR NAVEEN BALARAJU\n",
        "\"\"\""
      ],
      "execution_count": 0,
      "outputs": [
        {
          "output_type": "execute_result",
          "data": {
            "text/plain": [
              "'\\nCREATED ON MONDAY JUNE 26, 2019 \\n\\n\\n@ AUTHOR NAVEEN BALARAJU\\n'"
            ]
          },
          "metadata": {
            "tags": []
          },
          "execution_count": 1
        }
      ]
    },
    {
      "cell_type": "markdown",
      "metadata": {
        "id": "TFfo0vgElT6L",
        "colab_type": "text"
      },
      "source": [
        "Airline is a highly sophisticated and a competitive industry and customer satisfaction is the focal point that impacts the performance of the company over it competitors.According to Estelami,customer reviews provides a company with an opportunity to rectify the mistakes,reatin dissatisfied consumers, and retain influence consumers future attitude and behavior.\n",
        "\n",
        "According to Forbes, there are 4 factors that considered while ranking the Airlnes\n",
        "1. on-time performance \n",
        "2. Customer Reviews\n",
        "3. Denied Boarding \n",
        "4. Mishandeled Baggage\n",
        "\n",
        "In this study, the main focus is on the analysis of the \"customer sentiments\" towards the service provided America's airline carriers like\n",
        "1.  Alaska Airlines\n",
        "2.  Delta  Airlines\n",
        "3. JetBlue Airlines\n",
        "4. Southwest Airlines\n",
        "5. Hawaiian Airlines\n",
        "6. American Airlines\n",
        "7. United Airlines\n",
        "\n",
        "The data for the analysis has been scraped using twitter API and the tweets with the following hash tags were used for data collection within the time period\n",
        "    June 15,2019 to July 12, 2019\n",
        "1. #Delta OR #DeltaAirlines OR #DeltaAirways \n",
        "2. #JetBlue \n",
        "3. #Southwest OR  #SouthwestAirlines OR #SouthWestAir\n",
        "4. #alaskaairlines  OR #iFlyAlaska OR #AlaskaAir\n",
        "5. #HawaiianAirlines OR #HawaiianAirways\n",
        "6. #UnitedAirlines\n",
        "7. #AmericanAirlines  OR #AmericanAir"
      ]
    },
    {
      "cell_type": "code",
      "metadata": {
        "id": "M0V0-ipnWfgi",
        "colab_type": "code",
        "colab": {}
      },
      "source": [
        "import os\n",
        "import pandas as pd\n",
        "import numpy as np\n",
        "import re\n",
        "from textblob import TextBlob\n",
        "import string\n",
        "import nltk\n",
        "from nltk.corpus import stopwords\n",
        "from nltk.tokenize import word_tokenize\n",
        "import matplotlib.pyplot as plt\n",
        "import collections\n",
        "from wordcloud import WordCloud \n",
        "import emoji\n",
        "from nltk.stem import PorterStemmer \n",
        "from nltk.tokenize.moses import MosesDetokenizer"
      ],
      "execution_count": 0,
      "outputs": []
    },
    {
      "cell_type": "markdown",
      "metadata": {
        "id": "-PjKMfS8Bf55",
        "colab_type": "text"
      },
      "source": [
        "**ANALYSIS OF ALASKA AIRLINES CUSTOMER REVIEWS**"
      ]
    },
    {
      "cell_type": "code",
      "metadata": {
        "id": "lsx6zrKQWfjI",
        "colab_type": "code",
        "outputId": "2444b743-3fc1-4e36-e2ad-31a8af9c8f60",
        "colab": {
          "base_uri": "https://localhost:8080/",
          "height": 170
        }
      },
      "source": [
        "Alaska_AL = pd.read_csv('ALaska_june15_july12.csv')\n",
        "Alaska_AL.info()\n",
        "#Alaska_AL = pd.concat([Al_1,Al_2,Al_3],ignore_index=True)"
      ],
      "execution_count": 0,
      "outputs": [
        {
          "output_type": "stream",
          "text": [
            "<class 'pandas.core.frame.DataFrame'>\n",
            "RangeIndex: 1109 entries, 0 to 1108\n",
            "Data columns (total 4 columns):\n",
            "Text                1109 non-null object\n",
            "Tweet created at    1109 non-null object\n",
            "User Location       908 non-null object\n",
            "User name           1109 non-null object\n",
            "dtypes: object(4)\n",
            "memory usage: 34.7+ KB\n"
          ],
          "name": "stdout"
        }
      ]
    },
    {
      "cell_type": "code",
      "metadata": {
        "id": "jNTqIvsNWflu",
        "colab_type": "code",
        "outputId": "0b04a2bc-5ce4-45e2-8056-579cf1d3d6b7",
        "colab": {
          "base_uri": "https://localhost:8080/",
          "height": 306
        }
      },
      "source": [
        "Alaska_AL.head()"
      ],
      "execution_count": 0,
      "outputs": [
        {
          "output_type": "execute_result",
          "data": {
            "text/html": [
              "<div>\n",
              "<style scoped>\n",
              "    .dataframe tbody tr th:only-of-type {\n",
              "        vertical-align: middle;\n",
              "    }\n",
              "\n",
              "    .dataframe tbody tr th {\n",
              "        vertical-align: top;\n",
              "    }\n",
              "\n",
              "    .dataframe thead th {\n",
              "        text-align: right;\n",
              "    }\n",
              "</style>\n",
              "<table border=\"1\" class=\"dataframe\">\n",
              "  <thead>\n",
              "    <tr style=\"text-align: right;\">\n",
              "      <th></th>\n",
              "      <th>Text</th>\n",
              "      <th>Tweet created at</th>\n",
              "      <th>User Location</th>\n",
              "      <th>User name</th>\n",
              "    </tr>\n",
              "  </thead>\n",
              "  <tbody>\n",
              "    <tr>\n",
              "      <th>0</th>\n",
              "      <td>@AlaskaAir I'm flying Alaska today! #iflyalask...</td>\n",
              "      <td>2019-06-25 18:55:44</td>\n",
              "      <td>PNW</td>\n",
              "      <td>Simon_Says_Rain</td>\n",
              "    </tr>\n",
              "    <tr>\n",
              "      <th>1</th>\n",
              "      <td>Big week at Paine Field, ⁦@BeechersSeattle⁩ an...</td>\n",
              "      <td>2019-06-25 18:42:31</td>\n",
              "      <td>Everett, WA</td>\n",
              "      <td>Fly Paine Field</td>\n",
              "    </tr>\n",
              "    <tr>\n",
              "      <th>2</th>\n",
              "      <td>@AlaskaAir #iFlyAlaska I can't wait to fly @Al...</td>\n",
              "      <td>2019-06-25 18:05:30</td>\n",
              "      <td>Maple Valley, WA</td>\n",
              "      <td>Kori</td>\n",
              "    </tr>\n",
              "    <tr>\n",
              "      <th>3</th>\n",
              "      <td>Bend is my number one choice! #inbend #iflyala...</td>\n",
              "      <td>2019-06-25 18:03:02</td>\n",
              "      <td>Seattle, WA</td>\n",
              "      <td>Bryan Zidar</td>\n",
              "    </tr>\n",
              "    <tr>\n",
              "      <th>4</th>\n",
              "      <td>Let’s gif this party started! Share your trave...</td>\n",
              "      <td>2019-06-25 18:00:51</td>\n",
              "      <td>Seattle, WA</td>\n",
              "      <td>Alaska Airlines</td>\n",
              "    </tr>\n",
              "  </tbody>\n",
              "</table>\n",
              "</div>"
            ],
            "text/plain": [
              "                                                Text  ...        User name\n",
              "0  @AlaskaAir I'm flying Alaska today! #iflyalask...  ...  Simon_Says_Rain\n",
              "1  Big week at Paine Field, ⁦@BeechersSeattle⁩ an...  ...  Fly Paine Field\n",
              "2  @AlaskaAir #iFlyAlaska I can't wait to fly @Al...  ...             Kori\n",
              "3  Bend is my number one choice! #inbend #iflyala...  ...      Bryan Zidar\n",
              "4  Let’s gif this party started! Share your trave...  ...  Alaska Airlines\n",
              "\n",
              "[5 rows x 4 columns]"
            ]
          },
          "metadata": {
            "tags": []
          },
          "execution_count": 116
        }
      ]
    },
    {
      "cell_type": "markdown",
      "metadata": {
        "id": "ktSFQmx5b61p",
        "colab_type": "text"
      },
      "source": [
        "**Text preprocessing**"
      ]
    },
    {
      "cell_type": "code",
      "metadata": {
        "id": "2y_toRKnWfog",
        "colab_type": "code",
        "colab": {}
      },
      "source": [
        "def deEmojify(inputString):\n",
        "    return emoji.demojize(inputString)"
      ],
      "execution_count": 0,
      "outputs": []
    },
    {
      "cell_type": "code",
      "metadata": {
        "id": "_jj9dmae_dC-",
        "colab_type": "code",
        "colab": {}
      },
      "source": [
        "Alaska_AL['Text'] = Alaska_AL['Text'] .apply(deEmojify)"
      ],
      "execution_count": 0,
      "outputs": []
    },
    {
      "cell_type": "code",
      "metadata": {
        "id": "YtLVFxaWcXag",
        "colab_type": "code",
        "colab": {}
      },
      "source": [
        "Alaska_AL['Text'] = Alaska_AL['Text'].str.replace(\"[#,@,:,::,.,_,-,?,\\,+,(,),',!,//]\", \" \")"
      ],
      "execution_count": 0,
      "outputs": []
    },
    {
      "cell_type": "code",
      "metadata": {
        "id": "qFC9Vn1vcXf3",
        "colab_type": "code",
        "colab": {}
      },
      "source": [
        "Alaska_AL['Text'] = Alaska_AL['Text'].str.replace(\"[^a-zA-Z#]\", \" \")"
      ],
      "execution_count": 0,
      "outputs": []
    },
    {
      "cell_type": "code",
      "metadata": {
        "id": "zh8zVi5kdBVi",
        "colab_type": "code",
        "colab": {}
      },
      "source": [
        "Alaska_AL['Text'] = Alaska_AL['Text'].str.lower()"
      ],
      "execution_count": 0,
      "outputs": []
    },
    {
      "cell_type": "code",
      "metadata": {
        "id": "A1rIiiL6dgGj",
        "colab_type": "code",
        "colab": {}
      },
      "source": [
        "stop_words = stopwords.words('english')\n",
        "alaska_stopwords = ['alaskaair','iflyalaska','alaska','airlines','alaskaairlines','https']\n",
        "stop_words.extend(alaska_stopwords)"
      ],
      "execution_count": 0,
      "outputs": []
    },
    {
      "cell_type": "code",
      "metadata": {
        "id": "9mKxv45TdgJT",
        "colab_type": "code",
        "colab": {}
      },
      "source": [
        "def text_process(raw_text):\n",
        "    ps = PorterStemmer()\n",
        "    nonpunc = ps.stem(raw_text)\n",
        "    return [word for word in nonpunc.split() if word not in stop_words]"
      ],
      "execution_count": 0,
      "outputs": []
    },
    {
      "cell_type": "code",
      "metadata": {
        "id": "0lhvizo3dgMC",
        "colab_type": "code",
        "colab": {}
      },
      "source": [
        "Alaska_AL['Processed_text'] = Alaska_AL['Text'].apply(text_process)"
      ],
      "execution_count": 0,
      "outputs": []
    },
    {
      "cell_type": "code",
      "metadata": {
        "id": "M50gTtXNfTud",
        "colab_type": "code",
        "colab": {}
      },
      "source": [
        "def detoken(tokens):\n",
        "  detokenizer = MosesDetokenizer()\n",
        "  dt = detokenizer.detokenize(tokens,return_str = True)\n",
        "  \n",
        "  return dt"
      ],
      "execution_count": 0,
      "outputs": []
    },
    {
      "cell_type": "code",
      "metadata": {
        "id": "Y7sG2mzjfU-x",
        "colab_type": "code",
        "colab": {}
      },
      "source": [
        "Alaska_AL['Processed_text'] = Alaska_AL['Processed_text'].apply(detoken)"
      ],
      "execution_count": 0,
      "outputs": []
    },
    {
      "cell_type": "code",
      "metadata": {
        "id": "Pw3_1Zdke5Ez",
        "colab_type": "code",
        "colab": {}
      },
      "source": [
        "text = Alaska_AL['Processed_text']\n",
        "polarity=[]\n",
        "subjectivity=[]\n",
        "for i in text:\n",
        "    blob = TextBlob(i)\n",
        "    sentiment = blob.sentiment\n",
        "    po = sentiment.polarity\n",
        "    polarity.append(po)\n",
        "    sub = sentiment.subjectivity\n",
        "    subjectivity.append(sub)"
      ],
      "execution_count": 0,
      "outputs": []
    },
    {
      "cell_type": "code",
      "metadata": {
        "id": "91-HbNEie5HM",
        "colab_type": "code",
        "colab": {}
      },
      "source": [
        "Alaska_AL['Sentiment'] = polarity\n",
        "Alaska_AL['Subjectivity'] = subjectivity"
      ],
      "execution_count": 0,
      "outputs": []
    },
    {
      "cell_type": "code",
      "metadata": {
        "id": "HJe4XWATebGj",
        "colab_type": "code",
        "outputId": "faa96618-ed87-45f6-a1a2-6f4932f436a3",
        "colab": {
          "base_uri": "https://localhost:8080/",
          "height": 496
        }
      },
      "source": [
        "Alaska_AL.head()"
      ],
      "execution_count": 0,
      "outputs": [
        {
          "output_type": "execute_result",
          "data": {
            "text/html": [
              "<div>\n",
              "<style scoped>\n",
              "    .dataframe tbody tr th:only-of-type {\n",
              "        vertical-align: middle;\n",
              "    }\n",
              "\n",
              "    .dataframe tbody tr th {\n",
              "        vertical-align: top;\n",
              "    }\n",
              "\n",
              "    .dataframe thead th {\n",
              "        text-align: right;\n",
              "    }\n",
              "</style>\n",
              "<table border=\"1\" class=\"dataframe\">\n",
              "  <thead>\n",
              "    <tr style=\"text-align: right;\">\n",
              "      <th></th>\n",
              "      <th>Text</th>\n",
              "      <th>Tweet created at</th>\n",
              "      <th>User Location</th>\n",
              "      <th>User name</th>\n",
              "      <th>Processed_text</th>\n",
              "      <th>Sentiment</th>\n",
              "      <th>Subjectivity</th>\n",
              "    </tr>\n",
              "  </thead>\n",
              "  <tbody>\n",
              "    <tr>\n",
              "      <th>0</th>\n",
              "      <td>alaskaair i m flying alaska today   iflyalask...</td>\n",
              "      <td>2019-06-25 18:55:44</td>\n",
              "      <td>PNW</td>\n",
              "      <td>Simon_Says_Rain</td>\n",
              "      <td>flying today co oh x dt</td>\n",
              "      <td>0.0</td>\n",
              "      <td>0.0</td>\n",
              "    </tr>\n",
              "    <tr>\n",
              "      <th>1</th>\n",
              "      <td>big week at paine field    beechersseattle  an...</td>\n",
              "      <td>2019-06-25 18:42:31</td>\n",
              "      <td>Everett, WA</td>\n",
              "      <td>Fly Paine Field</td>\n",
              "      <td>big week paine field beechersseattle caffevita...</td>\n",
              "      <td>0.0</td>\n",
              "      <td>0.3</td>\n",
              "    </tr>\n",
              "    <tr>\n",
              "      <th>2</th>\n",
              "      <td>alaskaair  iflyalaska i can t wait to fly  al...</td>\n",
              "      <td>2019-06-25 18:05:30</td>\n",
              "      <td>Maple Valley, WA</td>\n",
              "      <td>Kori</td>\n",
              "      <td>wait fly airline monogamous pas co jislt</td>\n",
              "      <td>0.8</td>\n",
              "      <td>0.9</td>\n",
              "    </tr>\n",
              "    <tr>\n",
              "      <th>3</th>\n",
              "      <td>bend is my number one choice   inbend  iflyala...</td>\n",
              "      <td>2019-06-25 18:03:02</td>\n",
              "      <td>Seattle, WA</td>\n",
              "      <td>Bryan Zidar</td>\n",
              "      <td>bend number one choice inbend co wbjc nviif</td>\n",
              "      <td>0.0</td>\n",
              "      <td>0.0</td>\n",
              "    </tr>\n",
              "    <tr>\n",
              "      <th>4</th>\n",
              "      <td>let s gif this party started  share your trave...</td>\n",
              "      <td>2019-06-25 18:00:51</td>\n",
              "      <td>Seattle, WA</td>\n",
              "      <td>Alaska Airlines</td>\n",
              "      <td>let gif party started share travel adventures ...</td>\n",
              "      <td>0.0</td>\n",
              "      <td>0.0</td>\n",
              "    </tr>\n",
              "  </tbody>\n",
              "</table>\n",
              "</div>"
            ],
            "text/plain": [
              "                                                Text  ... Subjectivity\n",
              "0   alaskaair i m flying alaska today   iflyalask...  ...          0.0\n",
              "1  big week at paine field    beechersseattle  an...  ...          0.3\n",
              "2   alaskaair  iflyalaska i can t wait to fly  al...  ...          0.9\n",
              "3  bend is my number one choice   inbend  iflyala...  ...          0.0\n",
              "4  let s gif this party started  share your trave...  ...          0.0\n",
              "\n",
              "[5 rows x 7 columns]"
            ]
          },
          "metadata": {
            "tags": []
          },
          "execution_count": 129
        }
      ]
    },
    {
      "cell_type": "code",
      "metadata": {
        "id": "9TNH2Ko7dgRX",
        "colab_type": "code",
        "colab": {}
      },
      "source": [
        "def apply_threshold(sentiment):\n",
        "    if sentiment < 0:\n",
        "        sentiment = 'Negative'\n",
        "    elif sentiment == 0:\n",
        "        sentiment = 'Neutral'\n",
        "    else:\n",
        "        sentiment = 'Positive'\n",
        "        \n",
        "    return sentiment"
      ],
      "execution_count": 0,
      "outputs": []
    },
    {
      "cell_type": "code",
      "metadata": {
        "id": "WDR3nr8uf0FJ",
        "colab_type": "code",
        "colab": {}
      },
      "source": [
        "Alaska_AL['Sentiment'] = Alaska_AL['Sentiment'].apply(apply_threshold)"
      ],
      "execution_count": 0,
      "outputs": []
    },
    {
      "cell_type": "code",
      "metadata": {
        "id": "0BM2K1f7xioG",
        "colab_type": "code",
        "outputId": "846f233a-5f0f-4509-f213-001aeb2e439f",
        "colab": {
          "base_uri": "https://localhost:8080/",
          "height": 496
        }
      },
      "source": [
        "Alaska_AL.head()"
      ],
      "execution_count": 0,
      "outputs": [
        {
          "output_type": "execute_result",
          "data": {
            "text/html": [
              "<div>\n",
              "<style scoped>\n",
              "    .dataframe tbody tr th:only-of-type {\n",
              "        vertical-align: middle;\n",
              "    }\n",
              "\n",
              "    .dataframe tbody tr th {\n",
              "        vertical-align: top;\n",
              "    }\n",
              "\n",
              "    .dataframe thead th {\n",
              "        text-align: right;\n",
              "    }\n",
              "</style>\n",
              "<table border=\"1\" class=\"dataframe\">\n",
              "  <thead>\n",
              "    <tr style=\"text-align: right;\">\n",
              "      <th></th>\n",
              "      <th>Text</th>\n",
              "      <th>Tweet created at</th>\n",
              "      <th>User Location</th>\n",
              "      <th>User name</th>\n",
              "      <th>Processed_text</th>\n",
              "      <th>Sentiment</th>\n",
              "      <th>Subjectivity</th>\n",
              "    </tr>\n",
              "  </thead>\n",
              "  <tbody>\n",
              "    <tr>\n",
              "      <th>0</th>\n",
              "      <td>alaskaair i m flying alaska today   iflyalask...</td>\n",
              "      <td>2019-06-25 18:55:44</td>\n",
              "      <td>PNW</td>\n",
              "      <td>Simon_Says_Rain</td>\n",
              "      <td>flying today co oh x dt</td>\n",
              "      <td>Neutral</td>\n",
              "      <td>0.0</td>\n",
              "    </tr>\n",
              "    <tr>\n",
              "      <th>1</th>\n",
              "      <td>big week at paine field    beechersseattle  an...</td>\n",
              "      <td>2019-06-25 18:42:31</td>\n",
              "      <td>Everett, WA</td>\n",
              "      <td>Fly Paine Field</td>\n",
              "      <td>big week paine field beechersseattle caffevita...</td>\n",
              "      <td>Neutral</td>\n",
              "      <td>0.3</td>\n",
              "    </tr>\n",
              "    <tr>\n",
              "      <th>2</th>\n",
              "      <td>alaskaair  iflyalaska i can t wait to fly  al...</td>\n",
              "      <td>2019-06-25 18:05:30</td>\n",
              "      <td>Maple Valley, WA</td>\n",
              "      <td>Kori</td>\n",
              "      <td>wait fly airline monogamous pas co jislt</td>\n",
              "      <td>Positive</td>\n",
              "      <td>0.9</td>\n",
              "    </tr>\n",
              "    <tr>\n",
              "      <th>3</th>\n",
              "      <td>bend is my number one choice   inbend  iflyala...</td>\n",
              "      <td>2019-06-25 18:03:02</td>\n",
              "      <td>Seattle, WA</td>\n",
              "      <td>Bryan Zidar</td>\n",
              "      <td>bend number one choice inbend co wbjc nviif</td>\n",
              "      <td>Neutral</td>\n",
              "      <td>0.0</td>\n",
              "    </tr>\n",
              "    <tr>\n",
              "      <th>4</th>\n",
              "      <td>let s gif this party started  share your trave...</td>\n",
              "      <td>2019-06-25 18:00:51</td>\n",
              "      <td>Seattle, WA</td>\n",
              "      <td>Alaska Airlines</td>\n",
              "      <td>let gif party started share travel adventures ...</td>\n",
              "      <td>Neutral</td>\n",
              "      <td>0.0</td>\n",
              "    </tr>\n",
              "  </tbody>\n",
              "</table>\n",
              "</div>"
            ],
            "text/plain": [
              "                                                Text  ... Subjectivity\n",
              "0   alaskaair i m flying alaska today   iflyalask...  ...          0.0\n",
              "1  big week at paine field    beechersseattle  an...  ...          0.3\n",
              "2   alaskaair  iflyalaska i can t wait to fly  al...  ...          0.9\n",
              "3  bend is my number one choice   inbend  iflyala...  ...          0.0\n",
              "4  let s gif this party started  share your trave...  ...          0.0\n",
              "\n",
              "[5 rows x 7 columns]"
            ]
          },
          "metadata": {
            "tags": []
          },
          "execution_count": 132
        }
      ]
    },
    {
      "cell_type": "markdown",
      "metadata": {
        "id": "CUyfQF81yNxK",
        "colab_type": "text"
      },
      "source": [
        "**Negative comments**"
      ]
    },
    {
      "cell_type": "code",
      "metadata": {
        "id": "I2YNbqy4x1g6",
        "colab_type": "code",
        "outputId": "0bb6d2bc-c760-4b43-be41-1c4dfa98faf6",
        "colab": {
          "base_uri": "https://localhost:8080/",
          "height": 547
        }
      },
      "source": [
        "Alaska_AL[Alaska_AL['Sentiment']=='Negative'].head()"
      ],
      "execution_count": 0,
      "outputs": [
        {
          "output_type": "execute_result",
          "data": {
            "text/html": [
              "<div>\n",
              "<style scoped>\n",
              "    .dataframe tbody tr th:only-of-type {\n",
              "        vertical-align: middle;\n",
              "    }\n",
              "\n",
              "    .dataframe tbody tr th {\n",
              "        vertical-align: top;\n",
              "    }\n",
              "\n",
              "    .dataframe thead th {\n",
              "        text-align: right;\n",
              "    }\n",
              "</style>\n",
              "<table border=\"1\" class=\"dataframe\">\n",
              "  <thead>\n",
              "    <tr style=\"text-align: right;\">\n",
              "      <th></th>\n",
              "      <th>Text</th>\n",
              "      <th>Tweet created at</th>\n",
              "      <th>User Location</th>\n",
              "      <th>User name</th>\n",
              "      <th>Processed_text</th>\n",
              "      <th>Sentiment</th>\n",
              "      <th>Subjectivity</th>\n",
              "    </tr>\n",
              "  </thead>\n",
              "  <tbody>\n",
              "    <tr>\n",
              "      <th>13</th>\n",
              "      <td>alaska plane crash victims id ed    https   t ...</td>\n",
              "      <td>2019-06-25 09:02:08</td>\n",
              "      <td>Worldwide</td>\n",
              "      <td>AirlineNews</td>\n",
              "      <td>plane crash victims id ed co e u apxsxm curiou...</td>\n",
              "      <td>Negative</td>\n",
              "      <td>1.000000</td>\n",
              "    </tr>\n",
              "    <tr>\n",
              "      <th>30</th>\n",
              "      <td>alaskaairlines most weird airlines in my life...</td>\n",
              "      <td>2019-06-24 16:53:29</td>\n",
              "      <td>NaN</td>\n",
              "      <td>Bella</td>\n",
              "      <td>weird life broke second time two luggage wheel...</td>\n",
              "      <td>Negative</td>\n",
              "      <td>0.484848</td>\n",
              "    </tr>\n",
              "    <tr>\n",
              "      <th>49</th>\n",
              "      <td>flying from ny to la last night  the flight wa...</td>\n",
              "      <td>2019-06-23 20:07:15</td>\n",
              "      <td>Pasadena, CA</td>\n",
              "      <td>Rick Abe</td>\n",
              "      <td>flying ny la last night flight delayed complet...</td>\n",
              "      <td>Negative</td>\n",
              "      <td>0.347222</td>\n",
              "    </tr>\n",
              "    <tr>\n",
              "      <th>51</th>\n",
              "      <td>alaskaair worst customer service ever  they h...</td>\n",
              "      <td>2019-06-23 19:14:00</td>\n",
              "      <td>Everywhere, Global</td>\n",
              "      <td>StBread</td>\n",
              "      <td>worst customer service ever one job seat famil...</td>\n",
              "      <td>Negative</td>\n",
              "      <td>1.000000</td>\n",
              "    </tr>\n",
              "    <tr>\n",
              "      <th>61</th>\n",
              "      <td>and for an unknown reason there was no way to ...</td>\n",
              "      <td>2019-06-23 11:07:35</td>\n",
              "      <td>Seattle</td>\n",
              "      <td>Sprizee</td>\n",
              "      <td>unknown reason way check flight online alterna...</td>\n",
              "      <td>Negative</td>\n",
              "      <td>0.600000</td>\n",
              "    </tr>\n",
              "  </tbody>\n",
              "</table>\n",
              "</div>"
            ],
            "text/plain": [
              "                                                 Text  ... Subjectivity\n",
              "13  alaska plane crash victims id ed    https   t ...  ...     1.000000\n",
              "30   alaskaairlines most weird airlines in my life...  ...     0.484848\n",
              "49  flying from ny to la last night  the flight wa...  ...     0.347222\n",
              "51   alaskaair worst customer service ever  they h...  ...     1.000000\n",
              "61  and for an unknown reason there was no way to ...  ...     0.600000\n",
              "\n",
              "[5 rows x 7 columns]"
            ]
          },
          "metadata": {
            "tags": []
          },
          "execution_count": 133
        }
      ]
    },
    {
      "cell_type": "markdown",
      "metadata": {
        "id": "lwgWXVVnyaq9",
        "colab_type": "text"
      },
      "source": [
        "**Neutral comments**"
      ]
    },
    {
      "cell_type": "code",
      "metadata": {
        "id": "SjnC4166x1lO",
        "colab_type": "code",
        "outputId": "e7e2084c-01bc-4f06-8c0e-61eb36028560",
        "colab": {
          "base_uri": "https://localhost:8080/",
          "height": 513
        }
      },
      "source": [
        "Alaska_AL[Alaska_AL['Sentiment']=='Neutral'].head()"
      ],
      "execution_count": 0,
      "outputs": [
        {
          "output_type": "execute_result",
          "data": {
            "text/html": [
              "<div>\n",
              "<style scoped>\n",
              "    .dataframe tbody tr th:only-of-type {\n",
              "        vertical-align: middle;\n",
              "    }\n",
              "\n",
              "    .dataframe tbody tr th {\n",
              "        vertical-align: top;\n",
              "    }\n",
              "\n",
              "    .dataframe thead th {\n",
              "        text-align: right;\n",
              "    }\n",
              "</style>\n",
              "<table border=\"1\" class=\"dataframe\">\n",
              "  <thead>\n",
              "    <tr style=\"text-align: right;\">\n",
              "      <th></th>\n",
              "      <th>Text</th>\n",
              "      <th>Tweet created at</th>\n",
              "      <th>User Location</th>\n",
              "      <th>User name</th>\n",
              "      <th>Processed_text</th>\n",
              "      <th>Sentiment</th>\n",
              "      <th>Subjectivity</th>\n",
              "    </tr>\n",
              "  </thead>\n",
              "  <tbody>\n",
              "    <tr>\n",
              "      <th>0</th>\n",
              "      <td>alaskaair i m flying alaska today   iflyalask...</td>\n",
              "      <td>2019-06-25 18:55:44</td>\n",
              "      <td>PNW</td>\n",
              "      <td>Simon_Says_Rain</td>\n",
              "      <td>flying today co oh x dt</td>\n",
              "      <td>Neutral</td>\n",
              "      <td>0.0</td>\n",
              "    </tr>\n",
              "    <tr>\n",
              "      <th>1</th>\n",
              "      <td>big week at paine field    beechersseattle  an...</td>\n",
              "      <td>2019-06-25 18:42:31</td>\n",
              "      <td>Everett, WA</td>\n",
              "      <td>Fly Paine Field</td>\n",
              "      <td>big week paine field beechersseattle caffevita...</td>\n",
              "      <td>Neutral</td>\n",
              "      <td>0.3</td>\n",
              "    </tr>\n",
              "    <tr>\n",
              "      <th>3</th>\n",
              "      <td>bend is my number one choice   inbend  iflyala...</td>\n",
              "      <td>2019-06-25 18:03:02</td>\n",
              "      <td>Seattle, WA</td>\n",
              "      <td>Bryan Zidar</td>\n",
              "      <td>bend number one choice inbend co wbjc nviif</td>\n",
              "      <td>Neutral</td>\n",
              "      <td>0.0</td>\n",
              "    </tr>\n",
              "    <tr>\n",
              "      <th>4</th>\n",
              "      <td>let s gif this party started  share your trave...</td>\n",
              "      <td>2019-06-25 18:00:51</td>\n",
              "      <td>Seattle, WA</td>\n",
              "      <td>Alaska Airlines</td>\n",
              "      <td>let gif party started share travel adventures ...</td>\n",
              "      <td>Neutral</td>\n",
              "      <td>0.0</td>\n",
              "    </tr>\n",
              "    <tr>\n",
              "      <th>5</th>\n",
              "      <td>altrumpf we truly appreciate you  thank you f...</td>\n",
              "      <td>2019-06-25 16:53:27</td>\n",
              "      <td>Seattle, WA</td>\n",
              "      <td>Alaska Airlines</td>\n",
              "      <td>altrumpf truly appreciate thank loyalty suli</td>\n",
              "      <td>Neutral</td>\n",
              "      <td>0.0</td>\n",
              "    </tr>\n",
              "  </tbody>\n",
              "</table>\n",
              "</div>"
            ],
            "text/plain": [
              "                                                Text  ... Subjectivity\n",
              "0   alaskaair i m flying alaska today   iflyalask...  ...          0.0\n",
              "1  big week at paine field    beechersseattle  an...  ...          0.3\n",
              "3  bend is my number one choice   inbend  iflyala...  ...          0.0\n",
              "4  let s gif this party started  share your trave...  ...          0.0\n",
              "5   altrumpf we truly appreciate you  thank you f...  ...          0.0\n",
              "\n",
              "[5 rows x 7 columns]"
            ]
          },
          "metadata": {
            "tags": []
          },
          "execution_count": 134
        }
      ]
    },
    {
      "cell_type": "markdown",
      "metadata": {
        "id": "xm5YCvi9yiZT",
        "colab_type": "text"
      },
      "source": [
        "**Positive comments**"
      ]
    },
    {
      "cell_type": "code",
      "metadata": {
        "id": "F8aK7Yeryhgq",
        "colab_type": "code",
        "outputId": "6c3267d4-37b3-4012-c650-11418cebcf53",
        "colab": {
          "base_uri": "https://localhost:8080/",
          "height": 564
        }
      },
      "source": [
        "Alaska_AL[Alaska_AL['Sentiment']=='Positive'].head()"
      ],
      "execution_count": 0,
      "outputs": [
        {
          "output_type": "execute_result",
          "data": {
            "text/html": [
              "<div>\n",
              "<style scoped>\n",
              "    .dataframe tbody tr th:only-of-type {\n",
              "        vertical-align: middle;\n",
              "    }\n",
              "\n",
              "    .dataframe tbody tr th {\n",
              "        vertical-align: top;\n",
              "    }\n",
              "\n",
              "    .dataframe thead th {\n",
              "        text-align: right;\n",
              "    }\n",
              "</style>\n",
              "<table border=\"1\" class=\"dataframe\">\n",
              "  <thead>\n",
              "    <tr style=\"text-align: right;\">\n",
              "      <th></th>\n",
              "      <th>Text</th>\n",
              "      <th>Tweet created at</th>\n",
              "      <th>User Location</th>\n",
              "      <th>User name</th>\n",
              "      <th>Processed_text</th>\n",
              "      <th>Sentiment</th>\n",
              "      <th>Subjectivity</th>\n",
              "    </tr>\n",
              "  </thead>\n",
              "  <tbody>\n",
              "    <tr>\n",
              "      <th>2</th>\n",
              "      <td>alaskaair  iflyalaska i can t wait to fly  al...</td>\n",
              "      <td>2019-06-25 18:05:30</td>\n",
              "      <td>Maple Valley, WA</td>\n",
              "      <td>Kori</td>\n",
              "      <td>wait fly airline monogamous pas co jislt</td>\n",
              "      <td>Positive</td>\n",
              "      <td>0.900000</td>\n",
              "    </tr>\n",
              "    <tr>\n",
              "      <th>6</th>\n",
              "      <td>my favorite pdx team and my favorite airline  ...</td>\n",
              "      <td>2019-06-25 16:25:33</td>\n",
              "      <td>Venersborg, WA</td>\n",
              "      <td>Linda Dollar</td>\n",
              "      <td>favorite pdx team favorite airline see thursda...</td>\n",
              "      <td>Positive</td>\n",
              "      <td>1.000000</td>\n",
              "    </tr>\n",
              "    <tr>\n",
              "      <th>7</th>\n",
              "      <td>iconic change of perspective  alaskaairlines  ...</td>\n",
              "      <td>2019-06-25 15:58:18</td>\n",
              "      <td>Montana</td>\n",
              "      <td>Lise McClendon</td>\n",
              "      <td>iconic change perspective horizonair mountrain...</td>\n",
              "      <td>Positive</td>\n",
              "      <td>0.500000</td>\n",
              "    </tr>\n",
              "    <tr>\n",
              "      <th>9</th>\n",
              "      <td>kellyjohorton lol   great shot  all business ...</td>\n",
              "      <td>2019-06-25 13:51:56</td>\n",
              "      <td>Seattle, WA</td>\n",
              "      <td>Alaska Airlines</td>\n",
              "      <td>kellyjohorton lol great shot business beautifu...</td>\n",
              "      <td>Positive</td>\n",
              "      <td>0.816667</td>\n",
              "    </tr>\n",
              "    <tr>\n",
              "      <th>14</th>\n",
              "      <td>good morning  alaskaair  let s start this day ...</td>\n",
              "      <td>2019-06-25 07:32:21</td>\n",
              "      <td>NaN</td>\n",
              "      <td>Kevin</td>\n",
              "      <td>good morning let start day amazing</td>\n",
              "      <td>Positive</td>\n",
              "      <td>0.750000</td>\n",
              "    </tr>\n",
              "  </tbody>\n",
              "</table>\n",
              "</div>"
            ],
            "text/plain": [
              "                                                 Text  ... Subjectivity\n",
              "2    alaskaair  iflyalaska i can t wait to fly  al...  ...     0.900000\n",
              "6   my favorite pdx team and my favorite airline  ...  ...     1.000000\n",
              "7   iconic change of perspective  alaskaairlines  ...  ...     0.500000\n",
              "9    kellyjohorton lol   great shot  all business ...  ...     0.816667\n",
              "14  good morning  alaskaair  let s start this day ...  ...     0.750000\n",
              "\n",
              "[5 rows x 7 columns]"
            ]
          },
          "metadata": {
            "tags": []
          },
          "execution_count": 135
        }
      ]
    },
    {
      "cell_type": "code",
      "metadata": {
        "id": "7mUBTbMMx1oh",
        "colab_type": "code",
        "outputId": "3dbab920-c785-4672-bc8e-155df5b282c7",
        "colab": {
          "base_uri": "https://localhost:8080/",
          "height": 68
        }
      },
      "source": [
        "Neutral_AL = len(Alaska_AL['Sentiment'][Alaska_AL['Sentiment']=='Neutral'])\n",
        "Positive_AL = len(Alaska_AL['Sentiment'][Alaska_AL['Sentiment']=='Positive'])\n",
        "Negative_AL = len(Alaska_AL['Sentiment'][Alaska_AL['Sentiment']=='Negative'])\n",
        "print(\"Number of Neutral sentiments:\",Neutral_AL)\n",
        "print(\"Number of Positive sentiments:\",Positive_AL)\n",
        "print(\"Number of Negative sentiments:\",Negative_AL)"
      ],
      "execution_count": 0,
      "outputs": [
        {
          "output_type": "stream",
          "text": [
            "Number of Neutral sentiments: 385\n",
            "Number of Positive sentiments: 626\n",
            "Number of Negative sentiments: 98\n"
          ],
          "name": "stdout"
        }
      ]
    },
    {
      "cell_type": "code",
      "metadata": {
        "id": "746bG2JaztHj",
        "colab_type": "code",
        "outputId": "3bdcff2e-c166-4c7a-ff56-34e35c791e3f",
        "colab": {
          "base_uri": "https://localhost:8080/",
          "height": 336
        }
      },
      "source": [
        "x= ['Neutral','Postive','Negative']\n",
        "y = [Neutral_AL,Positive_AL,Negative_AL]\n",
        "plt.figure(figsize=(10,5))\n",
        "plt.bar(x,y,color = 'yellow')\n",
        "plt.title('CUSTOMERS  REVIEW ON ALASKA AIRLINES')\n",
        "plt.show()"
      ],
      "execution_count": 0,
      "outputs": [
        {
          "output_type": "display_data",
          "data": {
            "image/png": "[encoded data removed]",
            "text/plain": [
              "<Figure size 720x360 with 1 Axes>"
            ]
          },
          "metadata": {
            "tags": []
          }
        }
      ]
    },
    {
      "cell_type": "markdown",
      "metadata": {
        "id": "HYRPqp4iBzmz",
        "colab_type": "text"
      },
      "source": [
        "**ANALYSIS OF AMERICAN AIRLINES CUSTOMER REVIEWS**"
      ]
    },
    {
      "cell_type": "code",
      "metadata": {
        "id": "ssUfG9nE7nFU",
        "colab_type": "code",
        "outputId": "252cecd9-cfed-484c-e205-a54e7e4c062f",
        "colab": {
          "base_uri": "https://localhost:8080/",
          "height": 170
        }
      },
      "source": [
        "American_Al = pd.read_csv('American_june15_july12.csv')\n",
        "American_Al.info()"
      ],
      "execution_count": 0,
      "outputs": [
        {
          "output_type": "stream",
          "text": [
            "<class 'pandas.core.frame.DataFrame'>\n",
            "RangeIndex: 2587 entries, 0 to 2586\n",
            "Data columns (total 4 columns):\n",
            "Text                2587 non-null object\n",
            "Tweet created at    2587 non-null object\n",
            "User Location       1726 non-null object\n",
            "User name           2587 non-null object\n",
            "dtypes: object(4)\n",
            "memory usage: 80.9+ KB\n"
          ],
          "name": "stdout"
        }
      ]
    },
    {
      "cell_type": "code",
      "metadata": {
        "id": "fCjVLpIY7nIE",
        "colab_type": "code",
        "outputId": "0f398c33-4a94-4f04-d022-c71aa21e069f",
        "colab": {
          "base_uri": "https://localhost:8080/",
          "height": 306
        }
      },
      "source": [
        "American_Al['Text'] = American_Al['Text'] .apply(deEmojify)\n",
        "American_Al['Text'] = American_Al['Text'].str.replace(\"[#,@,:,::,.,_,-,?,\\,+,(,),',!,//]\", \" \")\n",
        "American_Al['Text'] = American_Al['Text'].str.replace(\"[^a-zA-Z#]\", \" \")\n",
        "American_Al['Text'] = American_Al['Text'].str.lower()\n",
        "American_Al.head()"
      ],
      "execution_count": 0,
      "outputs": [
        {
          "output_type": "execute_result",
          "data": {
            "text/html": [
              "<div>\n",
              "<style scoped>\n",
              "    .dataframe tbody tr th:only-of-type {\n",
              "        vertical-align: middle;\n",
              "    }\n",
              "\n",
              "    .dataframe tbody tr th {\n",
              "        vertical-align: top;\n",
              "    }\n",
              "\n",
              "    .dataframe thead th {\n",
              "        text-align: right;\n",
              "    }\n",
              "</style>\n",
              "<table border=\"1\" class=\"dataframe\">\n",
              "  <thead>\n",
              "    <tr style=\"text-align: right;\">\n",
              "      <th></th>\n",
              "      <th>Text</th>\n",
              "      <th>Tweet created at</th>\n",
              "      <th>User Location</th>\n",
              "      <th>User name</th>\n",
              "    </tr>\n",
              "  </thead>\n",
              "  <tbody>\n",
              "    <tr>\n",
              "      <th>0</th>\n",
              "      <td>thankful for family  in particular my mccarthy...</td>\n",
              "      <td>2019-07-12 08:52:15</td>\n",
              "      <td>Michigan</td>\n",
              "      <td>peggy horan</td>\n",
              "    </tr>\n",
              "    <tr>\n",
              "      <th>1</th>\n",
              "      <td>americanair hey  americanairlines just curiou...</td>\n",
              "      <td>2019-07-12 08:17:29</td>\n",
              "      <td>NaN</td>\n",
              "      <td>John Kennett</td>\n",
              "    </tr>\n",
              "    <tr>\n",
              "      <th>2</th>\n",
              "      <td>haha what a joke   americanair first you boot ...</td>\n",
              "      <td>2019-07-12 07:43:46</td>\n",
              "      <td>Los Angeles, CA</td>\n",
              "      <td>DJ Hamburger</td>\n",
              "    </tr>\n",
              "    <tr>\n",
              "      <th>3</th>\n",
              "      <td>how to travel smoothly with  americanairlines ...</td>\n",
              "      <td>2019-07-12 07:38:29</td>\n",
              "      <td>United States</td>\n",
              "      <td>Americanairlinesreservations</td>\n",
              "    </tr>\n",
              "    <tr>\n",
              "      <th>4</th>\n",
              "      <td>there are no words to describe how absolutely ...</td>\n",
              "      <td>2019-07-12 07:28:13</td>\n",
              "      <td>Washington, DC</td>\n",
              "      <td>Mischief Managed</td>\n",
              "    </tr>\n",
              "  </tbody>\n",
              "</table>\n",
              "</div>"
            ],
            "text/plain": [
              "                                                Text  ...                     User name\n",
              "0  thankful for family  in particular my mccarthy...  ...                   peggy horan\n",
              "1   americanair hey  americanairlines just curiou...  ...                  John Kennett\n",
              "2  haha what a joke   americanair first you boot ...  ...                  DJ Hamburger\n",
              "3  how to travel smoothly with  americanairlines ...  ...  Americanairlinesreservations\n",
              "4  there are no words to describe how absolutely ...  ...              Mischief Managed\n",
              "\n",
              "[5 rows x 4 columns]"
            ]
          },
          "metadata": {
            "tags": []
          },
          "execution_count": 139
        }
      ]
    },
    {
      "cell_type": "code",
      "metadata": {
        "id": "u3VAunHe7nKu",
        "colab_type": "code",
        "colab": {}
      },
      "source": [
        "stop_words = stopwords.words('english')\n",
        "my_stopwords = ['americanair','https','americanairlines','americanairlines']\n",
        "stop_words.extend(my_stopwords)"
      ],
      "execution_count": 0,
      "outputs": []
    },
    {
      "cell_type": "code",
      "metadata": {
        "id": "xUQwsUJG7nNu",
        "colab_type": "code",
        "colab": {}
      },
      "source": [
        "def text_process(raw_text):\n",
        "    ps = PorterStemmer()\n",
        "    nonpunc = ps.stem(raw_text)\n",
        "    return [word for word in nonpunc.split() if word not in stop_words]"
      ],
      "execution_count": 0,
      "outputs": []
    },
    {
      "cell_type": "code",
      "metadata": {
        "id": "MFMeNUdtDt0H",
        "colab_type": "code",
        "colab": {}
      },
      "source": [
        "American_Al['Processed_text'] = American_Al['Text'].apply(text_process)\n",
        "American_Al['Processed_text'] = American_Al['Processed_text'].apply(detoken)"
      ],
      "execution_count": 0,
      "outputs": []
    },
    {
      "cell_type": "code",
      "metadata": {
        "id": "ORnFndcMXcyl",
        "colab_type": "code",
        "outputId": "c9e3179c-9d8c-44b5-d283-56d155053d54",
        "colab": {
          "base_uri": "https://localhost:8080/",
          "height": 442
        }
      },
      "source": [
        "American_Al.head()"
      ],
      "execution_count": 0,
      "outputs": [
        {
          "output_type": "execute_result",
          "data": {
            "text/html": [
              "<div>\n",
              "<style scoped>\n",
              "    .dataframe tbody tr th:only-of-type {\n",
              "        vertical-align: middle;\n",
              "    }\n",
              "\n",
              "    .dataframe tbody tr th {\n",
              "        vertical-align: top;\n",
              "    }\n",
              "\n",
              "    .dataframe thead th {\n",
              "        text-align: right;\n",
              "    }\n",
              "</style>\n",
              "<table border=\"1\" class=\"dataframe\">\n",
              "  <thead>\n",
              "    <tr style=\"text-align: right;\">\n",
              "      <th></th>\n",
              "      <th>Text</th>\n",
              "      <th>Tweet created at</th>\n",
              "      <th>User Location</th>\n",
              "      <th>User name</th>\n",
              "      <th>Processed_text</th>\n",
              "    </tr>\n",
              "  </thead>\n",
              "  <tbody>\n",
              "    <tr>\n",
              "      <th>0</th>\n",
              "      <td>thankful for family  in particular my mccarthy...</td>\n",
              "      <td>2019-07-12 08:52:15</td>\n",
              "      <td>Michigan</td>\n",
              "      <td>peggy horan</td>\n",
              "      <td>thankful family particular mccarthy side thank...</td>\n",
              "    </tr>\n",
              "    <tr>\n",
              "      <th>1</th>\n",
              "      <td>americanair hey  americanairlines just curiou...</td>\n",
              "      <td>2019-07-12 08:17:29</td>\n",
              "      <td>NaN</td>\n",
              "      <td>John Kennett</td>\n",
              "      <td>hey curious kim dustin concourse check phl co ...</td>\n",
              "    </tr>\n",
              "    <tr>\n",
              "      <th>2</th>\n",
              "      <td>haha what a joke   americanair first you boot ...</td>\n",
              "      <td>2019-07-12 07:43:46</td>\n",
              "      <td>Los Angeles, CA</td>\n",
              "      <td>DJ Hamburger</td>\n",
              "      <td>haha joke first boot sister mother dallas conn...</td>\n",
              "    </tr>\n",
              "    <tr>\n",
              "      <th>3</th>\n",
              "      <td>how to travel smoothly with  americanairlines ...</td>\n",
              "      <td>2019-07-12 07:38:29</td>\n",
              "      <td>United States</td>\n",
              "      <td>Americanairlinesreservations</td>\n",
              "      <td>travel smoothly carried easy way owing co ko jkcj</td>\n",
              "    </tr>\n",
              "    <tr>\n",
              "      <th>4</th>\n",
              "      <td>there are no words to describe how absolutely ...</td>\n",
              "      <td>2019-07-12 07:28:13</td>\n",
              "      <td>Washington, DC</td>\n",
              "      <td>Mischief Managed</td>\n",
              "      <td>words describe absolutely incompetent challeng...</td>\n",
              "    </tr>\n",
              "  </tbody>\n",
              "</table>\n",
              "</div>"
            ],
            "text/plain": [
              "                                                Text  ...                                     Processed_text\n",
              "0  thankful for family  in particular my mccarthy...  ...  thankful family particular mccarthy side thank...\n",
              "1   americanair hey  americanairlines just curiou...  ...  hey curious kim dustin concourse check phl co ...\n",
              "2  haha what a joke   americanair first you boot ...  ...  haha joke first boot sister mother dallas conn...\n",
              "3  how to travel smoothly with  americanairlines ...  ...  travel smoothly carried easy way owing co ko jkcj\n",
              "4  there are no words to describe how absolutely ...  ...  words describe absolutely incompetent challeng...\n",
              "\n",
              "[5 rows x 5 columns]"
            ]
          },
          "metadata": {
            "tags": []
          },
          "execution_count": 143
        }
      ]
    },
    {
      "cell_type": "code",
      "metadata": {
        "id": "E2h-O1OSECNv",
        "colab_type": "code",
        "colab": {}
      },
      "source": [
        "text = American_Al['Processed_text']\n",
        "polarity=[]\n",
        "subjectivity=[]\n",
        "for i in text:\n",
        "    blob = TextBlob(i)\n",
        "    sentiment = blob.sentiment\n",
        "    po = sentiment.polarity\n",
        "    polarity.append(po)\n",
        "    sub = sentiment.subjectivity\n",
        "    subjectivity.append(sub)"
      ],
      "execution_count": 0,
      "outputs": []
    },
    {
      "cell_type": "code",
      "metadata": {
        "id": "vy9-KAORET_V",
        "colab_type": "code",
        "outputId": "0cbf748d-c143-4ea5-bddb-fdc60c618889",
        "colab": {
          "base_uri": "https://localhost:8080/",
          "height": 496
        }
      },
      "source": [
        "American_Al['Sentiment'] = polarity\n",
        "American_Al['Subjectivity'] = subjectivity\n",
        "American_Al['Sentiment'] = American_Al['Sentiment'].apply(apply_threshold)\n",
        "American_Al.head()"
      ],
      "execution_count": 0,
      "outputs": [
        {
          "output_type": "execute_result",
          "data": {
            "text/html": [
              "<div>\n",
              "<style scoped>\n",
              "    .dataframe tbody tr th:only-of-type {\n",
              "        vertical-align: middle;\n",
              "    }\n",
              "\n",
              "    .dataframe tbody tr th {\n",
              "        vertical-align: top;\n",
              "    }\n",
              "\n",
              "    .dataframe thead th {\n",
              "        text-align: right;\n",
              "    }\n",
              "</style>\n",
              "<table border=\"1\" class=\"dataframe\">\n",
              "  <thead>\n",
              "    <tr style=\"text-align: right;\">\n",
              "      <th></th>\n",
              "      <th>Text</th>\n",
              "      <th>Tweet created at</th>\n",
              "      <th>User Location</th>\n",
              "      <th>User name</th>\n",
              "      <th>Processed_text</th>\n",
              "      <th>Sentiment</th>\n",
              "      <th>Subjectivity</th>\n",
              "    </tr>\n",
              "  </thead>\n",
              "  <tbody>\n",
              "    <tr>\n",
              "      <th>0</th>\n",
              "      <td>thankful for family  in particular my mccarthy...</td>\n",
              "      <td>2019-07-12 08:52:15</td>\n",
              "      <td>Michigan</td>\n",
              "      <td>peggy horan</td>\n",
              "      <td>thankful family particular mccarthy side thank...</td>\n",
              "      <td>Positive</td>\n",
              "      <td>0.266667</td>\n",
              "    </tr>\n",
              "    <tr>\n",
              "      <th>1</th>\n",
              "      <td>americanair hey  americanairlines just curiou...</td>\n",
              "      <td>2019-07-12 08:17:29</td>\n",
              "      <td>NaN</td>\n",
              "      <td>John Kennett</td>\n",
              "      <td>hey curious kim dustin concourse check phl co ...</td>\n",
              "      <td>Negative</td>\n",
              "      <td>1.000000</td>\n",
              "    </tr>\n",
              "    <tr>\n",
              "      <th>2</th>\n",
              "      <td>haha what a joke   americanair first you boot ...</td>\n",
              "      <td>2019-07-12 07:43:46</td>\n",
              "      <td>Los Angeles, CA</td>\n",
              "      <td>DJ Hamburger</td>\n",
              "      <td>haha joke first boot sister mother dallas conn...</td>\n",
              "      <td>Positive</td>\n",
              "      <td>0.316667</td>\n",
              "    </tr>\n",
              "    <tr>\n",
              "      <th>3</th>\n",
              "      <td>how to travel smoothly with  americanairlines ...</td>\n",
              "      <td>2019-07-12 07:38:29</td>\n",
              "      <td>United States</td>\n",
              "      <td>Americanairlinesreservations</td>\n",
              "      <td>travel smoothly carried easy way owing co ko jkcj</td>\n",
              "      <td>Positive</td>\n",
              "      <td>0.666667</td>\n",
              "    </tr>\n",
              "    <tr>\n",
              "      <th>4</th>\n",
              "      <td>there are no words to describe how absolutely ...</td>\n",
              "      <td>2019-07-12 07:28:13</td>\n",
              "      <td>Washington, DC</td>\n",
              "      <td>Mischief Managed</td>\n",
              "      <td>words describe absolutely incompetent challeng...</td>\n",
              "      <td>Negative</td>\n",
              "      <td>0.366667</td>\n",
              "    </tr>\n",
              "  </tbody>\n",
              "</table>\n",
              "</div>"
            ],
            "text/plain": [
              "                                                Text  ... Subjectivity\n",
              "0  thankful for family  in particular my mccarthy...  ...     0.266667\n",
              "1   americanair hey  americanairlines just curiou...  ...     1.000000\n",
              "2  haha what a joke   americanair first you boot ...  ...     0.316667\n",
              "3  how to travel smoothly with  americanairlines ...  ...     0.666667\n",
              "4  there are no words to describe how absolutely ...  ...     0.366667\n",
              "\n",
              "[5 rows x 7 columns]"
            ]
          },
          "metadata": {
            "tags": []
          },
          "execution_count": 145
        }
      ]
    },
    {
      "cell_type": "code",
      "metadata": {
        "id": "ywFklyV3EUEg",
        "colab_type": "code",
        "outputId": "1656e017-f76d-43f4-d235-0cf282dcc74d",
        "colab": {
          "base_uri": "https://localhost:8080/",
          "height": 68
        }
      },
      "source": [
        "Neutral_AA = len(American_Al['Sentiment'][American_Al['Sentiment']=='Neutral'])\n",
        "Positive_AA = len(American_Al['Sentiment'][American_Al['Sentiment']=='Positive'])\n",
        "Negative_AA = len(American_Al['Sentiment'][American_Al['Sentiment']=='Negative'])\n",
        "print(\"Number of Neutral sentiments:\",Neutral_AA)\n",
        "print(\"Number of Positive sentiments:\",Positive_AA)\n",
        "print(\"Number of Negative sentiments:\",Negative_AA)"
      ],
      "execution_count": 0,
      "outputs": [
        {
          "output_type": "stream",
          "text": [
            "Number of Neutral sentiments: 1086\n",
            "Number of Positive sentiments: 825\n",
            "Number of Negative sentiments: 676\n"
          ],
          "name": "stdout"
        }
      ]
    },
    {
      "cell_type": "code",
      "metadata": {
        "id": "oVrPdN2MEUHO",
        "colab_type": "code",
        "outputId": "19b90580-1933-4528-8c9d-fb5a5812d114",
        "colab": {
          "base_uri": "https://localhost:8080/",
          "height": 336
        }
      },
      "source": [
        "x= ['Neutral','Postive','Negative']\n",
        "y = [Neutral_AA,Positive_AA,Negative_AA]\n",
        "plt.figure(figsize=(10,5))\n",
        "plt.bar(x,y,color = 'pink')\n",
        "plt.title('CUSTOMERS REVIEW ON AMERICAN AIRLINES')\n",
        "plt.show()"
      ],
      "execution_count": 0,
      "outputs": [
        {
          "output_type": "display_data",
          "data": {
            "image/png": "[encoded data removed]",
            "text/plain": [
              "<Figure size 720x360 with 1 Axes>"
            ]
          },
          "metadata": {
            "tags": []
          }
        }
      ]
    },
    {
      "cell_type": "markdown",
      "metadata": {
        "id": "iEHclkyJGh8Q",
        "colab_type": "text"
      },
      "source": [
        "**ANALYSIS OF DELTA AIRLINES CUSTOMER REVIEWS**"
      ]
    },
    {
      "cell_type": "code",
      "metadata": {
        "id": "mOyMkoCVEUKK",
        "colab_type": "code",
        "outputId": "7acd60ca-5ed0-4ed7-803a-1c3d8a5123fb",
        "colab": {
          "base_uri": "https://localhost:8080/",
          "height": 170
        }
      },
      "source": [
        "Delta_AL = pd.read_csv('Delta_june15_july12.csv')\n",
        "Delta_AL.info()"
      ],
      "execution_count": 0,
      "outputs": [
        {
          "output_type": "stream",
          "text": [
            "<class 'pandas.core.frame.DataFrame'>\n",
            "RangeIndex: 4142 entries, 0 to 4141\n",
            "Data columns (total 4 columns):\n",
            "Text                4142 non-null object\n",
            "Tweet created at    4142 non-null object\n",
            "User Location       3267 non-null object\n",
            "User name           4142 non-null object\n",
            "dtypes: object(4)\n",
            "memory usage: 129.5+ KB\n"
          ],
          "name": "stdout"
        }
      ]
    },
    {
      "cell_type": "code",
      "metadata": {
        "id": "ead2g3EuG0k6",
        "colab_type": "code",
        "outputId": "fb32adc7-da7d-4bdb-c36b-adf683892209",
        "colab": {
          "base_uri": "https://localhost:8080/",
          "height": 306
        }
      },
      "source": [
        "Delta_AL['Text'] = Delta_AL['Text'] .apply(deEmojify)\n",
        "Delta_AL['Text'] = Delta_AL['Text'].str.replace(\"[#,@,:,::,.,_,-,?,\\,+,(,),',!,//]\", \" \")\n",
        "Delta_AL['Text'] = Delta_AL['Text'].str.replace(\"[^a-zA-Z#]\", \" \")\n",
        "Delta_AL['Text'] = Delta_AL['Text'].str.lower()\n",
        "Delta_AL.head()"
      ],
      "execution_count": 0,
      "outputs": [
        {
          "output_type": "execute_result",
          "data": {
            "text/html": [
              "<div>\n",
              "<style scoped>\n",
              "    .dataframe tbody tr th:only-of-type {\n",
              "        vertical-align: middle;\n",
              "    }\n",
              "\n",
              "    .dataframe tbody tr th {\n",
              "        vertical-align: top;\n",
              "    }\n",
              "\n",
              "    .dataframe thead th {\n",
              "        text-align: right;\n",
              "    }\n",
              "</style>\n",
              "<table border=\"1\" class=\"dataframe\">\n",
              "  <thead>\n",
              "    <tr style=\"text-align: right;\">\n",
              "      <th></th>\n",
              "      <th>Text</th>\n",
              "      <th>Tweet created at</th>\n",
              "      <th>User Location</th>\n",
              "      <th>User name</th>\n",
              "    </tr>\n",
              "  </thead>\n",
              "  <tbody>\n",
              "    <tr>\n",
              "      <th>0</th>\n",
              "      <td>wendy    barrie  mauricebenard  generalhospit...</td>\n",
              "      <td>2019-06-25 18:31:28</td>\n",
              "      <td>Clinton Township, MI</td>\n",
              "      <td>Dawn Hogan</td>\n",
              "    </tr>\n",
              "    <tr>\n",
              "      <th>1</th>\n",
              "      <td>thumbs up to jim burgen  after    years as a r...</td>\n",
              "      <td>2019-06-25 18:17:03</td>\n",
              "      <td>Grand Rapids, MI</td>\n",
              "      <td>FlyGRFord</td>\n",
              "    </tr>\n",
              "    <tr>\n",
              "      <th>2</th>\n",
              "      <td>this  clerical job might be a great fit for yo...</td>\n",
              "      <td>2019-06-25 18:16:48</td>\n",
              "      <td>Vancouver</td>\n",
              "      <td>TMJ-VAN Cleric. Jobs</td>\n",
              "    </tr>\n",
              "    <tr>\n",
              "      <th>3</th>\n",
              "      <td>hope you re enjoying your time in da club   n ...</td>\n",
              "      <td>2019-06-25 18:13:00</td>\n",
              "      <td>WWW + Worldwide</td>\n",
              "      <td>The Newbies</td>\n",
              "    </tr>\n",
              "    <tr>\n",
              "      <th>4</th>\n",
              "      <td>if i wanted to get screwed i d just pay intere...</td>\n",
              "      <td>2019-06-25 18:09:18</td>\n",
              "      <td>NaN</td>\n",
              "      <td>Joe_Geeter</td>\n",
              "    </tr>\n",
              "  </tbody>\n",
              "</table>\n",
              "</div>"
            ],
            "text/plain": [
              "                                                Text  ...             User name\n",
              "0   wendy    barrie  mauricebenard  generalhospit...  ...            Dawn Hogan\n",
              "1  thumbs up to jim burgen  after    years as a r...  ...             FlyGRFord\n",
              "2  this  clerical job might be a great fit for yo...  ...  TMJ-VAN Cleric. Jobs\n",
              "3  hope you re enjoying your time in da club   n ...  ...           The Newbies\n",
              "4  if i wanted to get screwed i d just pay intere...  ...            Joe_Geeter\n",
              "\n",
              "[5 rows x 4 columns]"
            ]
          },
          "metadata": {
            "tags": []
          },
          "execution_count": 153
        }
      ]
    },
    {
      "cell_type": "code",
      "metadata": {
        "id": "iBMrkiumG0nt",
        "colab_type": "code",
        "colab": {}
      },
      "source": [
        "stop_words_delta = stopwords.words('english')\n",
        "delta_stopwords = ['https']\n",
        "stop_words_delta.extend(delta_stopwords)\n",
        "\n",
        "def text_process(raw_text):\n",
        "    ps = PorterStemmer()\n",
        "    nonpunc = ps.stem(raw_text)\n",
        "    return [word for word in nonpunc.split() if word not in stop_words_delta]\n",
        "\n",
        "\n",
        "Delta_AL['Processed_text'] = Delta_AL['Text'].apply(text_process)\n",
        "Delta_AL['Processed_text'] = Delta_AL['Processed_text'].apply(detoken)"
      ],
      "execution_count": 0,
      "outputs": []
    },
    {
      "cell_type": "code",
      "metadata": {
        "id": "fXdv4YmcG0qs",
        "colab_type": "code",
        "outputId": "6a458fc8-54c1-4065-d87c-5046343499c4",
        "colab": {
          "base_uri": "https://localhost:8080/",
          "height": 513
        }
      },
      "source": [
        "text = Delta_AL['Processed_text']\n",
        "polarity=[]\n",
        "subjectivity=[]\n",
        "for i in text:\n",
        "    blob = TextBlob(i)\n",
        "    sentiment = blob.sentiment\n",
        "    po = sentiment.polarity\n",
        "    polarity.append(po)\n",
        "    sub = sentiment.subjectivity\n",
        "    subjectivity.append(sub)\n",
        "\n",
        "    \n",
        "Delta_AL['Sentiment'] = polarity\n",
        "Delta_AL['Subjectivity'] = subjectivity\n",
        "Delta_AL['Sentiment'] = Delta_AL['Sentiment'].apply(apply_threshold)\n",
        "Delta_AL.head()"
      ],
      "execution_count": 0,
      "outputs": [
        {
          "output_type": "execute_result",
          "data": {
            "text/html": [
              "<div>\n",
              "<style scoped>\n",
              "    .dataframe tbody tr th:only-of-type {\n",
              "        vertical-align: middle;\n",
              "    }\n",
              "\n",
              "    .dataframe tbody tr th {\n",
              "        vertical-align: top;\n",
              "    }\n",
              "\n",
              "    .dataframe thead th {\n",
              "        text-align: right;\n",
              "    }\n",
              "</style>\n",
              "<table border=\"1\" class=\"dataframe\">\n",
              "  <thead>\n",
              "    <tr style=\"text-align: right;\">\n",
              "      <th></th>\n",
              "      <th>Text</th>\n",
              "      <th>Tweet created at</th>\n",
              "      <th>User Location</th>\n",
              "      <th>User name</th>\n",
              "      <th>Processed_text</th>\n",
              "      <th>Sentiment</th>\n",
              "      <th>Subjectivity</th>\n",
              "    </tr>\n",
              "  </thead>\n",
              "  <tbody>\n",
              "    <tr>\n",
              "      <th>0</th>\n",
              "      <td>wendy    barrie  mauricebenard  generalhospit...</td>\n",
              "      <td>2019-06-25 18:31:28</td>\n",
              "      <td>Clinton Township, MI</td>\n",
              "      <td>Dawn Hogan</td>\n",
              "      <td>wendy barrie mauricebenard generalhospital pro...</td>\n",
              "      <td>Neutral</td>\n",
              "      <td>0.000</td>\n",
              "    </tr>\n",
              "    <tr>\n",
              "      <th>1</th>\n",
              "      <td>thumbs up to jim burgen  after    years as a r...</td>\n",
              "      <td>2019-06-25 18:17:03</td>\n",
              "      <td>Grand Rapids, MI</td>\n",
              "      <td>FlyGRFord</td>\n",
              "      <td>thumbs jim burgen years ramp agent delta grr j...</td>\n",
              "      <td>Negative</td>\n",
              "      <td>0.800</td>\n",
              "    </tr>\n",
              "    <tr>\n",
              "      <th>2</th>\n",
              "      <td>this  clerical job might be a great fit for yo...</td>\n",
              "      <td>2019-06-25 18:16:48</td>\n",
              "      <td>Vancouver</td>\n",
              "      <td>TMJ-VAN Cleric. Jobs</td>\n",
              "      <td>clerical job might great fit click link bio se...</td>\n",
              "      <td>Positive</td>\n",
              "      <td>0.575</td>\n",
              "    </tr>\n",
              "    <tr>\n",
              "      <th>3</th>\n",
              "      <td>hope you re enjoying your time in da club   n ...</td>\n",
              "      <td>2019-06-25 18:13:00</td>\n",
              "      <td>WWW + Worldwide</td>\n",
              "      <td>The Newbies</td>\n",
              "      <td>hope enjoying time da club n sango airplane de...</td>\n",
              "      <td>Positive</td>\n",
              "      <td>0.600</td>\n",
              "    </tr>\n",
              "    <tr>\n",
              "      <th>4</th>\n",
              "      <td>if i wanted to get screwed i d just pay intere...</td>\n",
              "      <td>2019-06-25 18:09:18</td>\n",
              "      <td>NaN</td>\n",
              "      <td>Joe_Geeter</td>\n",
              "      <td>wanted get screwed pay interest askbarclaysus ...</td>\n",
              "      <td>Neutral</td>\n",
              "      <td>0.000</td>\n",
              "    </tr>\n",
              "  </tbody>\n",
              "</table>\n",
              "</div>"
            ],
            "text/plain": [
              "                                                Text  ... Subjectivity\n",
              "0   wendy    barrie  mauricebenard  generalhospit...  ...        0.000\n",
              "1  thumbs up to jim burgen  after    years as a r...  ...        0.800\n",
              "2  this  clerical job might be a great fit for yo...  ...        0.575\n",
              "3  hope you re enjoying your time in da club   n ...  ...        0.600\n",
              "4  if i wanted to get screwed i d just pay intere...  ...        0.000\n",
              "\n",
              "[5 rows x 7 columns]"
            ]
          },
          "metadata": {
            "tags": []
          },
          "execution_count": 155
        }
      ]
    },
    {
      "cell_type": "code",
      "metadata": {
        "id": "PuXFLmpYG0wF",
        "colab_type": "code",
        "outputId": "bb9b2241-be51-491b-ef65-3fcd4d603037",
        "colab": {
          "base_uri": "https://localhost:8080/",
          "height": 68
        }
      },
      "source": [
        "Neutral_DA = len(Delta_AL['Sentiment'][Delta_AL['Sentiment']=='Neutral'])\n",
        "Positive_DA = len(Delta_AL['Sentiment'][Delta_AL['Sentiment']=='Positive'])\n",
        "Negative_DA = len(Delta_AL['Sentiment'][Delta_AL['Sentiment']=='Negative'])\n",
        "print(\"Number of Neutral sentiments:\",Neutral_DA)\n",
        "print(\"Number of Positive sentiments:\",Positive_DA)\n",
        "print(\"Number of Negative sentiments:\",Negative_DA)"
      ],
      "execution_count": 0,
      "outputs": [
        {
          "output_type": "stream",
          "text": [
            "Number of Neutral sentiments: 1635\n",
            "Number of Positive sentiments: 1865\n",
            "Number of Negative sentiments: 642\n"
          ],
          "name": "stdout"
        }
      ]
    },
    {
      "cell_type": "code",
      "metadata": {
        "id": "Mhxtn2P1G0zG",
        "colab_type": "code",
        "outputId": "3458be48-2f9c-418d-e408-25f43c068755",
        "colab": {
          "base_uri": "https://localhost:8080/",
          "height": 336
        }
      },
      "source": [
        "x= ['Neutral','Postive','Negative']\n",
        "y = [Neutral_DA,Positive_DA,Negative_DA]\n",
        "plt.figure(figsize=(10,5))\n",
        "plt.bar(x,y,color = 'green')\n",
        "plt.title('CUSTOMERS REVIEW ON DELTA AIRLINES')\n",
        "plt.show()"
      ],
      "execution_count": 0,
      "outputs": [
        {
          "output_type": "display_data",
          "data": {
            "image/png": "[encoded data removed]",
            "text/plain": [
              "<Figure size 720x360 with 1 Axes>"
            ]
          },
          "metadata": {
            "tags": []
          }
        }
      ]
    },
    {
      "cell_type": "markdown",
      "metadata": {
        "id": "LHLSCDVdLKJH",
        "colab_type": "text"
      },
      "source": [
        "**ANALYSIS OF HAWAIIAN AIRLINES CUSTOMER REVIEWS**"
      ]
    },
    {
      "cell_type": "code",
      "metadata": {
        "id": "cyZW_jODG0ts",
        "colab_type": "code",
        "outputId": "aec3b2f7-6445-42bc-8105-a732c26a32be",
        "colab": {
          "base_uri": "https://localhost:8080/",
          "height": 170
        }
      },
      "source": [
        "Hawaiian_AL = pd.read_csv('Hawaiian_june15_july12.csv')\n",
        "Hawaiian_AL.info()"
      ],
      "execution_count": 0,
      "outputs": [
        {
          "output_type": "stream",
          "text": [
            "<class 'pandas.core.frame.DataFrame'>\n",
            "RangeIndex: 67 entries, 0 to 66\n",
            "Data columns (total 4 columns):\n",
            "Text                67 non-null object\n",
            "Tweet created at    67 non-null object\n",
            "User Location       61 non-null object\n",
            "User name           67 non-null object\n",
            "dtypes: object(4)\n",
            "memory usage: 2.2+ KB\n"
          ],
          "name": "stdout"
        }
      ]
    },
    {
      "cell_type": "code",
      "metadata": {
        "id": "siOeAQdQLfe6",
        "colab_type": "code",
        "outputId": "0cb88c73-ca9e-465c-a0e6-99f7804d10d5",
        "colab": {
          "base_uri": "https://localhost:8080/",
          "height": 306
        }
      },
      "source": [
        "Hawaiian_AL['Text'] = Hawaiian_AL['Text'].apply(deEmojify)\n",
        "Hawaiian_AL['Text'] = Hawaiian_AL['Text'].str.replace(\"[#,@,:,::,.,_,-,?,\\,+,(,),',!,//]\", \" \")\n",
        "Hawaiian_AL['Text'] = Hawaiian_AL['Text'].str.replace(\"[^a-zA-Z#]\", \" \")\n",
        "Hawaiian_AL['Text'] = Hawaiian_AL['Text'].str.lower()\n",
        "Hawaiian_AL.head()"
      ],
      "execution_count": 0,
      "outputs": [
        {
          "output_type": "execute_result",
          "data": {
            "text/html": [
              "<div>\n",
              "<style scoped>\n",
              "    .dataframe tbody tr th:only-of-type {\n",
              "        vertical-align: middle;\n",
              "    }\n",
              "\n",
              "    .dataframe tbody tr th {\n",
              "        vertical-align: top;\n",
              "    }\n",
              "\n",
              "    .dataframe thead th {\n",
              "        text-align: right;\n",
              "    }\n",
              "</style>\n",
              "<table border=\"1\" class=\"dataframe\">\n",
              "  <thead>\n",
              "    <tr style=\"text-align: right;\">\n",
              "      <th></th>\n",
              "      <th>Text</th>\n",
              "      <th>Tweet created at</th>\n",
              "      <th>User Location</th>\n",
              "      <th>User name</th>\n",
              "    </tr>\n",
              "  </thead>\n",
              "  <tbody>\n",
              "    <tr>\n",
              "      <th>0</th>\n",
              "      <td>wave wall panels   hawaiian airlines  size    ...</td>\n",
              "      <td>2019-07-02 16:16:09</td>\n",
              "      <td>Las Vegas, NV</td>\n",
              "      <td>Legacy LV</td>\n",
              "    </tr>\n",
              "    <tr>\n",
              "      <th>1</th>\n",
              "      <td>lt  after every turn there is something new a...</td>\n",
              "      <td>2019-07-01 05:05:01</td>\n",
              "      <td>Lahaina, HI</td>\n",
              "      <td>LetsGoToMaui</td>\n",
              "    </tr>\n",
              "    <tr>\n",
              "      <th>2</th>\n",
              "      <td>up early to participate in the  honolulu  aids...</td>\n",
              "      <td>2019-06-30 20:17:00</td>\n",
              "      <td>Hawai‘i</td>\n",
              "      <td>Dr. Kehaulani Watson</td>\n",
              "    </tr>\n",
              "    <tr>\n",
              "      <th>3</th>\n",
              "      <td>celebrate national mai tai day with an on the ...</td>\n",
              "      <td>2019-06-30 17:49:10</td>\n",
              "      <td>Orange County, CA</td>\n",
              "      <td>OC Food Diva</td>\n",
              "    </tr>\n",
              "    <tr>\n",
              "      <th>4</th>\n",
              "      <td>new video uploaded  hawaiian airlines business...</td>\n",
              "      <td>2019-06-28 12:06:16</td>\n",
              "      <td>Worldwide</td>\n",
              "      <td>Jayda Long</td>\n",
              "    </tr>\n",
              "  </tbody>\n",
              "</table>\n",
              "</div>"
            ],
            "text/plain": [
              "                                                Text  ...             User name\n",
              "0  wave wall panels   hawaiian airlines  size    ...  ...             Legacy LV\n",
              "1   lt  after every turn there is something new a...  ...          LetsGoToMaui\n",
              "2  up early to participate in the  honolulu  aids...  ...  Dr. Kehaulani Watson\n",
              "3  celebrate national mai tai day with an on the ...  ...          OC Food Diva\n",
              "4  new video uploaded  hawaiian airlines business...  ...            Jayda Long\n",
              "\n",
              "[5 rows x 4 columns]"
            ]
          },
          "metadata": {
            "tags": []
          },
          "execution_count": 159
        }
      ]
    },
    {
      "cell_type": "code",
      "metadata": {
        "id": "zTRlmUM8Lfhz",
        "colab_type": "code",
        "colab": {}
      },
      "source": [
        "stop_words_hawaiian = stopwords.words('english')\n",
        "hawaiian_stopwords = ['https','hawaiian','airlines']\n",
        "stop_words_hawaiian.extend(hawaiian_stopwords)\n",
        "\n",
        "def text_process(raw_text):\n",
        "    ps = PorterStemmer()\n",
        "    nonpunc = ps.stem(raw_text)\n",
        "    return [word for word in nonpunc.split() if word not in stop_words_hawaiian]\n",
        "\n",
        "\n",
        "Hawaiian_AL['Processed_text'] = Hawaiian_AL['Text'].apply(text_process)\n",
        "Hawaiian_AL['Processed_text'] = Hawaiian_AL['Processed_text'].apply(detoken)"
      ],
      "execution_count": 0,
      "outputs": []
    },
    {
      "cell_type": "code",
      "metadata": {
        "id": "5jwAKdfvLfp-",
        "colab_type": "code",
        "outputId": "c97e9439-1585-4327-e50b-6e73bb2755ab",
        "colab": {
          "base_uri": "https://localhost:8080/",
          "height": 615
        }
      },
      "source": [
        "text = Hawaiian_AL['Processed_text']\n",
        "polarity=[]\n",
        "subjectivity=[]\n",
        "for i in text:\n",
        "    blob = TextBlob(i)\n",
        "    sentiment = blob.sentiment\n",
        "    po = sentiment.polarity\n",
        "    polarity.append(po)\n",
        "    sub = sentiment.subjectivity\n",
        "    subjectivity.append(sub)\n",
        "\n",
        "    \n",
        "Hawaiian_AL['Sentiment'] = polarity\n",
        "Hawaiian_AL['Subjectivity'] = subjectivity\n",
        "Hawaiian_AL['Sentiment'] = Hawaiian_AL['Sentiment'].apply(apply_threshold)\n",
        "Hawaiian_AL.head()"
      ],
      "execution_count": 0,
      "outputs": [
        {
          "output_type": "execute_result",
          "data": {
            "text/html": [
              "<div>\n",
              "<style scoped>\n",
              "    .dataframe tbody tr th:only-of-type {\n",
              "        vertical-align: middle;\n",
              "    }\n",
              "\n",
              "    .dataframe tbody tr th {\n",
              "        vertical-align: top;\n",
              "    }\n",
              "\n",
              "    .dataframe thead th {\n",
              "        text-align: right;\n",
              "    }\n",
              "</style>\n",
              "<table border=\"1\" class=\"dataframe\">\n",
              "  <thead>\n",
              "    <tr style=\"text-align: right;\">\n",
              "      <th></th>\n",
              "      <th>Text</th>\n",
              "      <th>Tweet created at</th>\n",
              "      <th>User Location</th>\n",
              "      <th>User name</th>\n",
              "      <th>Processed_text</th>\n",
              "      <th>Sentiment</th>\n",
              "      <th>Subjectivity</th>\n",
              "    </tr>\n",
              "  </thead>\n",
              "  <tbody>\n",
              "    <tr>\n",
              "      <th>0</th>\n",
              "      <td>wave wall panels   hawaiian airlines  size    ...</td>\n",
              "      <td>2019-07-02 16:16:09</td>\n",
              "      <td>Las Vegas, NV</td>\n",
              "      <td>Legacy LV</td>\n",
              "      <td>wave wall panels size x x repeating pattern ha...</td>\n",
              "      <td>Neutral</td>\n",
              "      <td>0.000000</td>\n",
              "    </tr>\n",
              "    <tr>\n",
              "      <th>1</th>\n",
              "      <td>lt  after every turn there is something new a...</td>\n",
              "      <td>2019-07-01 05:05:01</td>\n",
              "      <td>Lahaina, HI</td>\n",
              "      <td>LetsGoToMaui</td>\n",
              "      <td>lt every turn something new beautiful see gt c...</td>\n",
              "      <td>Positive</td>\n",
              "      <td>0.727273</td>\n",
              "    </tr>\n",
              "    <tr>\n",
              "      <th>2</th>\n",
              "      <td>up early to participate in the  honolulu  aids...</td>\n",
              "      <td>2019-06-30 20:17:00</td>\n",
              "      <td>Hawai‘i</td>\n",
              "      <td>Dr. Kehaulani Watson</td>\n",
              "      <td>early participate honolulu aidswalk teamkahele...</td>\n",
              "      <td>Positive</td>\n",
              "      <td>0.300000</td>\n",
              "    </tr>\n",
              "    <tr>\n",
              "      <th>3</th>\n",
              "      <td>celebrate national mai tai day with an on the ...</td>\n",
              "      <td>2019-06-30 17:49:10</td>\n",
              "      <td>Orange County, CA</td>\n",
              "      <td>OC Food Diva</td>\n",
              "      <td>celebrate national mai tai day rocks mai tai a...</td>\n",
              "      <td>Neutral</td>\n",
              "      <td>0.000000</td>\n",
              "    </tr>\n",
              "    <tr>\n",
              "      <th>4</th>\n",
              "      <td>new video uploaded  hawaiian airlines business...</td>\n",
              "      <td>2019-06-28 12:06:16</td>\n",
              "      <td>Worldwide</td>\n",
              "      <td>Jayda Long</td>\n",
              "      <td>new video uploaded business class check youtub...</td>\n",
              "      <td>Positive</td>\n",
              "      <td>0.454545</td>\n",
              "    </tr>\n",
              "  </tbody>\n",
              "</table>\n",
              "</div>"
            ],
            "text/plain": [
              "                                                Text  ... Subjectivity\n",
              "0  wave wall panels   hawaiian airlines  size    ...  ...     0.000000\n",
              "1   lt  after every turn there is something new a...  ...     0.727273\n",
              "2  up early to participate in the  honolulu  aids...  ...     0.300000\n",
              "3  celebrate national mai tai day with an on the ...  ...     0.000000\n",
              "4  new video uploaded  hawaiian airlines business...  ...     0.454545\n",
              "\n",
              "[5 rows x 7 columns]"
            ]
          },
          "metadata": {
            "tags": []
          },
          "execution_count": 161
        }
      ]
    },
    {
      "cell_type": "code",
      "metadata": {
        "id": "9vQNZvPqLfvw",
        "colab_type": "code",
        "outputId": "d885c50d-a709-4bea-8c97-1179dda2a47e",
        "colab": {
          "base_uri": "https://localhost:8080/",
          "height": 68
        }
      },
      "source": [
        "Neutral_HA = len(Hawaiian_AL['Sentiment'][Hawaiian_AL['Sentiment']=='Neutral'])\n",
        "Positive_HA = len(Hawaiian_AL['Sentiment'][Hawaiian_AL['Sentiment']=='Positive'])\n",
        "Negative_HA = len(Hawaiian_AL['Sentiment'][Hawaiian_AL['Sentiment']=='Negative'])\n",
        "print(\"Number of Neutral sentiments:\",Neutral_HA)\n",
        "print(\"Number of Positive sentiments:\",Positive_HA)\n",
        "print(\"Number of Negative sentiments:\",Negative_HA)"
      ],
      "execution_count": 0,
      "outputs": [
        {
          "output_type": "stream",
          "text": [
            "Number of Neutral sentiments: 31\n",
            "Number of Positive sentiments: 25\n",
            "Number of Negative sentiments: 11\n"
          ],
          "name": "stdout"
        }
      ]
    },
    {
      "cell_type": "code",
      "metadata": {
        "id": "cAKMos86Lfte",
        "colab_type": "code",
        "outputId": "483285a0-493e-48ad-aa70-ee79893c9bdb",
        "colab": {
          "base_uri": "https://localhost:8080/",
          "height": 336
        }
      },
      "source": [
        "x= ['Neutral','Postive','Negative']\n",
        "y = [Neutral_HA,Positive_HA,Negative_HA]\n",
        "plt.figure(figsize=(10,5))\n",
        "plt.bar(x,y,color = 'red')\n",
        "plt.title('CUSTOMERS REVIEWS ON HAWAIIAN AIRLINES')\n",
        "plt.show()"
      ],
      "execution_count": 0,
      "outputs": [
        {
          "output_type": "display_data",
          "data": {
            "image/png": "[encoded data removed]",
            "text/plain": [
              "<Figure size 720x360 with 1 Axes>"
            ]
          },
          "metadata": {
            "tags": []
          }
        }
      ]
    },
    {
      "cell_type": "markdown",
      "metadata": {
        "id": "CuGNRRMQPWgk",
        "colab_type": "text"
      },
      "source": [
        "**ANALYSIS OF JET BLUE AIRLINES CUSTOMER REVIEWS**"
      ]
    },
    {
      "cell_type": "code",
      "metadata": {
        "id": "uW9NjCQILfnv",
        "colab_type": "code",
        "outputId": "8e4b32cd-20c7-4ec4-c374-6f14f4a6ef14",
        "colab": {
          "base_uri": "https://localhost:8080/",
          "height": 170
        }
      },
      "source": [
        "Jetblue_AL = pd.read_csv('Jetblue_june15_july12.csv')\n",
        "Jetblue_AL.info()"
      ],
      "execution_count": 0,
      "outputs": [
        {
          "output_type": "stream",
          "text": [
            "<class 'pandas.core.frame.DataFrame'>\n",
            "RangeIndex: 777 entries, 0 to 776\n",
            "Data columns (total 4 columns):\n",
            "Text                777 non-null object\n",
            "Tweet created at    777 non-null object\n",
            "User Location       558 non-null object\n",
            "User name           777 non-null object\n",
            "dtypes: object(4)\n",
            "memory usage: 24.4+ KB\n"
          ],
          "name": "stdout"
        }
      ]
    },
    {
      "cell_type": "code",
      "metadata": {
        "id": "22jxE9ObLflV",
        "colab_type": "code",
        "outputId": "23704575-572d-460e-a55a-f61ef169cf95",
        "colab": {
          "base_uri": "https://localhost:8080/",
          "height": 306
        }
      },
      "source": [
        "Jetblue_AL['Text'] = Jetblue_AL['Text'].apply(deEmojify)\n",
        "Jetblue_AL['Text'] = Jetblue_AL['Text'].str.replace(\"[#,@,:,::,.,_,-,?,\\,+,(,),',!,//]\", \" \")\n",
        "Jetblue_AL['Text'] = Jetblue_AL['Text'].str.replace(\"[^a-zA-Z#]\", \" \")\n",
        "Jetblue_AL['Text'] = Jetblue_AL['Text'].str.lower()\n",
        "Jetblue_AL.head()"
      ],
      "execution_count": 0,
      "outputs": [
        {
          "output_type": "execute_result",
          "data": {
            "text/html": [
              "<div>\n",
              "<style scoped>\n",
              "    .dataframe tbody tr th:only-of-type {\n",
              "        vertical-align: middle;\n",
              "    }\n",
              "\n",
              "    .dataframe tbody tr th {\n",
              "        vertical-align: top;\n",
              "    }\n",
              "\n",
              "    .dataframe thead th {\n",
              "        text-align: right;\n",
              "    }\n",
              "</style>\n",
              "<table border=\"1\" class=\"dataframe\">\n",
              "  <thead>\n",
              "    <tr style=\"text-align: right;\">\n",
              "      <th></th>\n",
              "      <th>Text</th>\n",
              "      <th>Tweet created at</th>\n",
              "      <th>User Location</th>\n",
              "      <th>User name</th>\n",
              "    </tr>\n",
              "  </thead>\n",
              "  <tbody>\n",
              "    <tr>\n",
              "      <th>0</th>\n",
              "      <td>huge thanks to  jetblue for getting this famil...</td>\n",
              "      <td>2019-06-25 18:26:31</td>\n",
              "      <td>nationwide</td>\n",
              "      <td>Adoptions With Love</td>\n",
              "    </tr>\n",
              "    <tr>\n",
              "      <th>1</th>\n",
              "      <td>i m going to use my  askbarclaysus  jetblue ca...</td>\n",
              "      <td>2019-06-25 18:15:19</td>\n",
              "      <td>NaN</td>\n",
              "      <td>Joe_Geeter</td>\n",
              "    </tr>\n",
              "    <tr>\n",
              "      <th>2</th>\n",
              "      <td>if i wanted to get screwed i d just pay intere...</td>\n",
              "      <td>2019-06-25 18:09:18</td>\n",
              "      <td>NaN</td>\n",
              "      <td>Joe_Geeter</td>\n",
              "    </tr>\n",
              "    <tr>\n",
              "      <th>3</th>\n",
              "      <td>if your thinking about the  jetblue credit car...</td>\n",
              "      <td>2019-06-25 18:07:13</td>\n",
              "      <td>NaN</td>\n",
              "      <td>Joe_Geeter</td>\n",
              "    </tr>\n",
              "    <tr>\n",
              "      <th>4</th>\n",
              "      <td>some of the best flight and customer service e...</td>\n",
              "      <td>2019-06-25 18:05:50</td>\n",
              "      <td>NaN</td>\n",
              "      <td>M.</td>\n",
              "    </tr>\n",
              "  </tbody>\n",
              "</table>\n",
              "</div>"
            ],
            "text/plain": [
              "                                                Text  ...            User name\n",
              "0  huge thanks to  jetblue for getting this famil...  ...  Adoptions With Love\n",
              "1  i m going to use my  askbarclaysus  jetblue ca...  ...           Joe_Geeter\n",
              "2  if i wanted to get screwed i d just pay intere...  ...           Joe_Geeter\n",
              "3  if your thinking about the  jetblue credit car...  ...           Joe_Geeter\n",
              "4  some of the best flight and customer service e...  ...                   M.\n",
              "\n",
              "[5 rows x 4 columns]"
            ]
          },
          "metadata": {
            "tags": []
          },
          "execution_count": 165
        }
      ]
    },
    {
      "cell_type": "code",
      "metadata": {
        "id": "QEyCdo6vP-Cj",
        "colab_type": "code",
        "colab": {}
      },
      "source": [
        "stop_words_jetblue = stopwords.words('english')\n",
        "jetblue_stopwords = ['https','jetblue']\n",
        "stop_words_jetblue.extend(jetblue_stopwords)\n",
        "\n",
        "def text_process(raw_text):\n",
        "    ps = PorterStemmer()\n",
        "    nonpunc = ps.stem(raw_text)\n",
        "    return [word for word in nonpunc.split() if word not in stop_words_jetblue]\n",
        "\n",
        "\n",
        "Jetblue_AL['Processed_text'] = Jetblue_AL['Text'].apply(text_process)\n",
        "Jetblue_AL['Processed_text'] = Jetblue_AL['Processed_text'].apply(detoken)"
      ],
      "execution_count": 0,
      "outputs": []
    },
    {
      "cell_type": "code",
      "metadata": {
        "id": "rFiNYl9WP-Fw",
        "colab_type": "code",
        "outputId": "39f3a3ed-87bb-4df8-9a4d-f5656e9470b9",
        "colab": {
          "base_uri": "https://localhost:8080/",
          "height": 513
        }
      },
      "source": [
        "text = Jetblue_AL['Processed_text']\n",
        "polarity=[]\n",
        "subjectivity=[]\n",
        "for i in text:\n",
        "    blob = TextBlob(i)\n",
        "    sentiment = blob.sentiment\n",
        "    po = sentiment.polarity\n",
        "    polarity.append(po)\n",
        "    sub = sentiment.subjectivity\n",
        "    subjectivity.append(sub)\n",
        "\n",
        "    \n",
        "Jetblue_AL['Sentiment'] = polarity\n",
        "Jetblue_AL['Subjectivity'] = subjectivity\n",
        "Jetblue_AL['Sentiment'] = Jetblue_AL['Sentiment'].apply(apply_threshold)\n",
        "Jetblue_AL.head()"
      ],
      "execution_count": 0,
      "outputs": [
        {
          "output_type": "execute_result",
          "data": {
            "text/html": [
              "<div>\n",
              "<style scoped>\n",
              "    .dataframe tbody tr th:only-of-type {\n",
              "        vertical-align: middle;\n",
              "    }\n",
              "\n",
              "    .dataframe tbody tr th {\n",
              "        vertical-align: top;\n",
              "    }\n",
              "\n",
              "    .dataframe thead th {\n",
              "        text-align: right;\n",
              "    }\n",
              "</style>\n",
              "<table border=\"1\" class=\"dataframe\">\n",
              "  <thead>\n",
              "    <tr style=\"text-align: right;\">\n",
              "      <th></th>\n",
              "      <th>Text</th>\n",
              "      <th>Tweet created at</th>\n",
              "      <th>User Location</th>\n",
              "      <th>User name</th>\n",
              "      <th>Processed_text</th>\n",
              "      <th>Sentiment</th>\n",
              "      <th>Subjectivity</th>\n",
              "    </tr>\n",
              "  </thead>\n",
              "  <tbody>\n",
              "    <tr>\n",
              "      <th>0</th>\n",
              "      <td>huge thanks to  jetblue for getting this famil...</td>\n",
              "      <td>2019-06-25 18:26:31</td>\n",
              "      <td>nationwide</td>\n",
              "      <td>Adoptions With Love</td>\n",
              "      <td>huge thanks getting family safely home congrat...</td>\n",
              "      <td>Positive</td>\n",
              "      <td>0.513636</td>\n",
              "    </tr>\n",
              "    <tr>\n",
              "      <th>1</th>\n",
              "      <td>i m going to use my  askbarclaysus  jetblue ca...</td>\n",
              "      <td>2019-06-25 18:15:19</td>\n",
              "      <td>NaN</td>\n",
              "      <td>Joe_Geeter</td>\n",
              "      <td>going use askbarclaysus card promote tweet</td>\n",
              "      <td>Neutral</td>\n",
              "      <td>0.000000</td>\n",
              "    </tr>\n",
              "    <tr>\n",
              "      <th>2</th>\n",
              "      <td>if i wanted to get screwed i d just pay intere...</td>\n",
              "      <td>2019-06-25 18:09:18</td>\n",
              "      <td>NaN</td>\n",
              "      <td>Joe_Geeter</td>\n",
              "      <td>wanted get screwed pay interest askbarclaysus ...</td>\n",
              "      <td>Neutral</td>\n",
              "      <td>0.000000</td>\n",
              "    </tr>\n",
              "    <tr>\n",
              "      <th>3</th>\n",
              "      <td>if your thinking about the  jetblue credit car...</td>\n",
              "      <td>2019-06-25 18:07:13</td>\n",
              "      <td>NaN</td>\n",
              "      <td>Joe_Geeter</td>\n",
              "      <td>thinking credit card askbarclaysus dont advert...</td>\n",
              "      <td>Positive</td>\n",
              "      <td>0.500000</td>\n",
              "    </tr>\n",
              "    <tr>\n",
              "      <th>4</th>\n",
              "      <td>some of the best flight and customer service e...</td>\n",
              "      <td>2019-06-25 18:05:50</td>\n",
              "      <td>NaN</td>\n",
              "      <td>M.</td>\n",
              "      <td>best flight customer service experiences alway...</td>\n",
              "      <td>Positive</td>\n",
              "      <td>0.600000</td>\n",
              "    </tr>\n",
              "  </tbody>\n",
              "</table>\n",
              "</div>"
            ],
            "text/plain": [
              "                                                Text  ... Subjectivity\n",
              "0  huge thanks to  jetblue for getting this famil...  ...     0.513636\n",
              "1  i m going to use my  askbarclaysus  jetblue ca...  ...     0.000000\n",
              "2  if i wanted to get screwed i d just pay intere...  ...     0.000000\n",
              "3  if your thinking about the  jetblue credit car...  ...     0.500000\n",
              "4  some of the best flight and customer service e...  ...     0.600000\n",
              "\n",
              "[5 rows x 7 columns]"
            ]
          },
          "metadata": {
            "tags": []
          },
          "execution_count": 167
        }
      ]
    },
    {
      "cell_type": "code",
      "metadata": {
        "id": "6ios5D-_P-ME",
        "colab_type": "code",
        "outputId": "1cee51ac-d066-4464-bdd2-9b36f13af206",
        "colab": {
          "base_uri": "https://localhost:8080/",
          "height": 68
        }
      },
      "source": [
        "Neutral_JB = len(Jetblue_AL['Sentiment'][Jetblue_AL['Sentiment']=='Neutral'])\n",
        "Positive_JB = len(Jetblue_AL['Sentiment'][Jetblue_AL['Sentiment']=='Positive'])\n",
        "Negative_JB = len(Jetblue_AL['Sentiment'][Jetblue_AL['Sentiment']=='Negative'])\n",
        "print(\"Number of Neutral sentiments:\",Neutral_JB)\n",
        "print(\"Number of Positive sentiments:\",Positive_JB)\n",
        "print(\"Number of Negative sentiments:\",Negative_JB)"
      ],
      "execution_count": 0,
      "outputs": [
        {
          "output_type": "stream",
          "text": [
            "Number of Neutral sentiments: 336\n",
            "Number of Positive sentiments: 300\n",
            "Number of Negative sentiments: 141\n"
          ],
          "name": "stdout"
        }
      ]
    },
    {
      "cell_type": "code",
      "metadata": {
        "id": "kDeGjOwNP-JZ",
        "colab_type": "code",
        "outputId": "51daca8c-c226-4c6a-a5c3-3a7e84602ef3",
        "colab": {
          "base_uri": "https://localhost:8080/",
          "height": 336
        }
      },
      "source": [
        "x= ['Neutral','Postive','Negative']\n",
        "y = [Neutral_JB,Positive_JB,Negative_JB]\n",
        "plt.figure(figsize=(10,5))\n",
        "plt.bar(x,y,color = 'blue')\n",
        "plt.title('CUSTOMERS REVIEWS ON JETBLUE AIRLINES')\n",
        "plt.show()"
      ],
      "execution_count": 0,
      "outputs": [
        {
          "output_type": "display_data",
          "data": {
            "image/png": "[encoded data removed]",
            "text/plain": [
              "<Figure size 720x360 with 1 Axes>"
            ]
          },
          "metadata": {
            "tags": []
          }
        }
      ]
    },
    {
      "cell_type": "markdown",
      "metadata": {
        "id": "8V5DVUQ_RUtV",
        "colab_type": "text"
      },
      "source": [
        "**ANALYSIS OF SOUTHWEST AIRLINES CUSTOMER REVIEWS**"
      ]
    },
    {
      "cell_type": "code",
      "metadata": {
        "id": "BP9QRk5wRMBl",
        "colab_type": "code",
        "outputId": "0e2266c6-e616-4aa5-dfa4-ca418d07f496",
        "colab": {
          "base_uri": "https://localhost:8080/",
          "height": 170
        }
      },
      "source": [
        "Southwest_AL = pd.read_csv('Southwest_june15_july12.csv')\n",
        "Southwest_AL.info()"
      ],
      "execution_count": 0,
      "outputs": [
        {
          "output_type": "stream",
          "text": [
            "<class 'pandas.core.frame.DataFrame'>\n",
            "RangeIndex: 5876 entries, 0 to 5875\n",
            "Data columns (total 4 columns):\n",
            "Text                5876 non-null object\n",
            "Tweet created at    5876 non-null object\n",
            "User Location       4345 non-null object\n",
            "User name           5876 non-null object\n",
            "dtypes: object(4)\n",
            "memory usage: 183.7+ KB\n"
          ],
          "name": "stdout"
        }
      ]
    },
    {
      "cell_type": "code",
      "metadata": {
        "id": "4beNPgQ9RME1",
        "colab_type": "code",
        "outputId": "4550d132-61a9-4b24-8c44-9e51fca85b62",
        "colab": {
          "base_uri": "https://localhost:8080/",
          "height": 306
        }
      },
      "source": [
        "Southwest_AL['Text'] = Southwest_AL['Text'].apply(deEmojify)\n",
        "Southwest_AL['Text'] = Southwest_AL['Text'].str.replace(\"[#,@,:,::,.,_,-,?,\\,+,(,),',!,//]\", \" \")\n",
        "Southwest_AL['Text'] = Southwest_AL['Text'].str.replace(\"[^a-zA-Z#]\", \" \")\n",
        "Southwest_AL['Text'] = Southwest_AL['Text'].str.lower()\n",
        "Southwest_AL.head()"
      ],
      "execution_count": 0,
      "outputs": [
        {
          "output_type": "execute_result",
          "data": {
            "text/html": [
              "<div>\n",
              "<style scoped>\n",
              "    .dataframe tbody tr th:only-of-type {\n",
              "        vertical-align: middle;\n",
              "    }\n",
              "\n",
              "    .dataframe tbody tr th {\n",
              "        vertical-align: top;\n",
              "    }\n",
              "\n",
              "    .dataframe thead th {\n",
              "        text-align: right;\n",
              "    }\n",
              "</style>\n",
              "<table border=\"1\" class=\"dataframe\">\n",
              "  <thead>\n",
              "    <tr style=\"text-align: right;\">\n",
              "      <th></th>\n",
              "      <th>Text</th>\n",
              "      <th>Tweet created at</th>\n",
              "      <th>User Location</th>\n",
              "      <th>User name</th>\n",
              "    </tr>\n",
              "  </thead>\n",
              "  <tbody>\n",
              "    <tr>\n",
              "      <th>0</th>\n",
              "      <td>are you a  manufacturer in the  southwest  don...</td>\n",
              "      <td>2019-07-12 08:19:10</td>\n",
              "      <td>Salisbury, England</td>\n",
              "      <td>Ruth Lambert</td>\n",
              "    </tr>\n",
              "    <tr>\n",
              "      <th>1</th>\n",
              "      <td>fantastic list of ideas for a south west usa r...</td>\n",
              "      <td>2019-07-12 08:18:43</td>\n",
              "      <td>On the Road</td>\n",
              "      <td>World Heritage Journey ✈</td>\n",
              "    </tr>\n",
              "    <tr>\n",
              "      <th>2</th>\n",
              "      <td>fancy a change this weekend  our weekend treat...</td>\n",
              "      <td>2019-07-12 08:15:16</td>\n",
              "      <td>Exeter</td>\n",
              "      <td>J&amp;R Food Service Ltd</td>\n",
              "    </tr>\n",
              "    <tr>\n",
              "      <th>3</th>\n",
              "      <td>thanks to  lossky for following  we are charte...</td>\n",
              "      <td>2019-07-12 07:58:05</td>\n",
              "      <td>Exeter, Devon, United Kingdom</td>\n",
              "      <td>Revell Research</td>\n",
              "    </tr>\n",
              "    <tr>\n",
              "      <th>4</th>\n",
              "      <td>bitcoin  btc  payment app fold implements ligh...</td>\n",
              "      <td>2019-07-12 07:45:02</td>\n",
              "      <td>NaN</td>\n",
              "      <td>🔗bitsmart.io</td>\n",
              "    </tr>\n",
              "  </tbody>\n",
              "</table>\n",
              "</div>"
            ],
            "text/plain": [
              "                                                Text  ...                 User name\n",
              "0  are you a  manufacturer in the  southwest  don...  ...              Ruth Lambert\n",
              "1  fantastic list of ideas for a south west usa r...  ...  World Heritage Journey ✈\n",
              "2  fancy a change this weekend  our weekend treat...  ...      J&R Food Service Ltd\n",
              "3  thanks to  lossky for following  we are charte...  ...           Revell Research\n",
              "4  bitcoin  btc  payment app fold implements ligh...  ...              🔗bitsmart.io\n",
              "\n",
              "[5 rows x 4 columns]"
            ]
          },
          "metadata": {
            "tags": []
          },
          "execution_count": 171
        }
      ]
    },
    {
      "cell_type": "code",
      "metadata": {
        "id": "tYnKdeC0RMNd",
        "colab_type": "code",
        "colab": {}
      },
      "source": [
        "stop_words_sw = stopwords.words('english')\n",
        "sw_stopwords = ['https','southwestairlines','southwestair']\n",
        "stop_words_sw.extend(sw_stopwords)\n",
        "\n",
        "def text_process(raw_text):\n",
        "    ps = PorterStemmer()\n",
        "    nonpunc = ps.stem(raw_text)\n",
        "    return [word for word in nonpunc.split() if word not in stop_words_sw]\n",
        "\n",
        "\n",
        "Southwest_AL['Processed_text'] = Southwest_AL['Text'].apply(text_process)\n",
        "Southwest_AL['Processed_text'] = Southwest_AL['Processed_text'].apply(detoken)"
      ],
      "execution_count": 0,
      "outputs": []
    },
    {
      "cell_type": "code",
      "metadata": {
        "id": "fAaPDRQCRMT2",
        "colab_type": "code",
        "outputId": "bda42d4c-6e35-46e0-8cdb-672b9419b932",
        "colab": {
          "base_uri": "https://localhost:8080/",
          "height": 564
        }
      },
      "source": [
        "text = Southwest_AL['Processed_text']\n",
        "polarity=[]\n",
        "subjectivity=[]\n",
        "for i in text:\n",
        "    blob = TextBlob(i)\n",
        "    sentiment = blob.sentiment\n",
        "    po = sentiment.polarity\n",
        "    polarity.append(po)\n",
        "    sub = sentiment.subjectivity\n",
        "    subjectivity.append(sub)\n",
        "\n",
        "    \n",
        "Southwest_AL['Sentiment'] = polarity\n",
        "Southwest_AL['Subjectivity'] = subjectivity\n",
        "Southwest_AL['Sentiment'] = Southwest_AL['Sentiment'].apply(apply_threshold)\n",
        "Southwest_AL.head()"
      ],
      "execution_count": 0,
      "outputs": [
        {
          "output_type": "execute_result",
          "data": {
            "text/html": [
              "<div>\n",
              "<style scoped>\n",
              "    .dataframe tbody tr th:only-of-type {\n",
              "        vertical-align: middle;\n",
              "    }\n",
              "\n",
              "    .dataframe tbody tr th {\n",
              "        vertical-align: top;\n",
              "    }\n",
              "\n",
              "    .dataframe thead th {\n",
              "        text-align: right;\n",
              "    }\n",
              "</style>\n",
              "<table border=\"1\" class=\"dataframe\">\n",
              "  <thead>\n",
              "    <tr style=\"text-align: right;\">\n",
              "      <th></th>\n",
              "      <th>Text</th>\n",
              "      <th>Tweet created at</th>\n",
              "      <th>User Location</th>\n",
              "      <th>User name</th>\n",
              "      <th>Processed_text</th>\n",
              "      <th>Sentiment</th>\n",
              "      <th>Subjectivity</th>\n",
              "    </tr>\n",
              "  </thead>\n",
              "  <tbody>\n",
              "    <tr>\n",
              "      <th>0</th>\n",
              "      <td>are you a  manufacturer in the  southwest  don...</td>\n",
              "      <td>2019-07-12 08:19:10</td>\n",
              "      <td>Salisbury, England</td>\n",
              "      <td>Ruth Lambert</td>\n",
              "      <td>manufacturer southwest miss opportunity feed l...</td>\n",
              "      <td>Positive</td>\n",
              "      <td>0.90</td>\n",
              "    </tr>\n",
              "    <tr>\n",
              "      <th>1</th>\n",
              "      <td>fantastic list of ideas for a south west usa r...</td>\n",
              "      <td>2019-07-12 08:18:43</td>\n",
              "      <td>On the Road</td>\n",
              "      <td>World Heritage Journey ✈</td>\n",
              "      <td>fantastic list ideas south west usa road trip ...</td>\n",
              "      <td>Positive</td>\n",
              "      <td>0.90</td>\n",
              "    </tr>\n",
              "    <tr>\n",
              "      <th>2</th>\n",
              "      <td>fancy a change this weekend  our weekend treat...</td>\n",
              "      <td>2019-07-12 08:15:16</td>\n",
              "      <td>Exeter</td>\n",
              "      <td>J&amp;R Food Service Ltd</td>\n",
              "      <td>fancy change weekend weekend treats help accom...</td>\n",
              "      <td>Neutral</td>\n",
              "      <td>0.00</td>\n",
              "    </tr>\n",
              "    <tr>\n",
              "      <th>3</th>\n",
              "      <td>thanks to  lossky for following  we are charte...</td>\n",
              "      <td>2019-07-12 07:58:05</td>\n",
              "      <td>Exeter, Devon, United Kingdom</td>\n",
              "      <td>Revell Research</td>\n",
              "      <td>thanks lossky following chartered professional...</td>\n",
              "      <td>Positive</td>\n",
              "      <td>0.15</td>\n",
              "    </tr>\n",
              "    <tr>\n",
              "      <th>4</th>\n",
              "      <td>bitcoin  btc  payment app fold implements ligh...</td>\n",
              "      <td>2019-07-12 07:45:02</td>\n",
              "      <td>NaN</td>\n",
              "      <td>🔗bitsmart.io</td>\n",
              "      <td>bitcoin btc payment app fold implements lightn...</td>\n",
              "      <td>Neutral</td>\n",
              "      <td>0.00</td>\n",
              "    </tr>\n",
              "  </tbody>\n",
              "</table>\n",
              "</div>"
            ],
            "text/plain": [
              "                                                Text  ... Subjectivity\n",
              "0  are you a  manufacturer in the  southwest  don...  ...         0.90\n",
              "1  fantastic list of ideas for a south west usa r...  ...         0.90\n",
              "2  fancy a change this weekend  our weekend treat...  ...         0.00\n",
              "3  thanks to  lossky for following  we are charte...  ...         0.15\n",
              "4  bitcoin  btc  payment app fold implements ligh...  ...         0.00\n",
              "\n",
              "[5 rows x 7 columns]"
            ]
          },
          "metadata": {
            "tags": []
          },
          "execution_count": 173
        }
      ]
    },
    {
      "cell_type": "code",
      "metadata": {
        "id": "cpj6EeYgRMQ9",
        "colab_type": "code",
        "outputId": "ec864ebe-0f24-441d-9cf8-afb52b29ee32",
        "colab": {
          "base_uri": "https://localhost:8080/",
          "height": 68
        }
      },
      "source": [
        "Neutral_SW = len(Southwest_AL['Sentiment'][Southwest_AL['Sentiment']=='Neutral'])\n",
        "Positive_SW = len(Southwest_AL['Sentiment'][Southwest_AL['Sentiment']=='Positive'])\n",
        "Negative_SW = len(Southwest_AL['Sentiment'][Southwest_AL['Sentiment']=='Negative'])\n",
        "print(\"Number of Neutral sentiments:\",Neutral_SW)\n",
        "print(\"Number of Positive sentiments:\",Positive_SW)\n",
        "print(\"Number of Negative sentiments:\",Negative_SW)"
      ],
      "execution_count": 0,
      "outputs": [
        {
          "output_type": "stream",
          "text": [
            "Number of Neutral sentiments: 3551\n",
            "Number of Positive sentiments: 1876\n",
            "Number of Negative sentiments: 449\n"
          ],
          "name": "stdout"
        }
      ]
    },
    {
      "cell_type": "code",
      "metadata": {
        "id": "jmGfW-UwRMK0",
        "colab_type": "code",
        "outputId": "351e2775-18dc-4b7a-d97c-6aa5628fb570",
        "colab": {
          "base_uri": "https://localhost:8080/",
          "height": 336
        }
      },
      "source": [
        "x= ['Neutral','Postive','Negative']\n",
        "y = [Neutral_SW,Positive_SW,Negative_SW]\n",
        "plt.figure(figsize=(10,5))\n",
        "plt.bar(x,y,color = 'orange')\n",
        "plt.title('CUSTOMERS REVIEWS ON SOUTHWEST AIRLINES')\n",
        "plt.show()"
      ],
      "execution_count": 0,
      "outputs": [
        {
          "output_type": "display_data",
          "data": {
            "image/png": "[encoded data removed]",
            "text/plain": [
              "<Figure size 720x360 with 1 Axes>"
            ]
          },
          "metadata": {
            "tags": []
          }
        }
      ]
    },
    {
      "cell_type": "markdown",
      "metadata": {
        "id": "q6S5OP3AUukB",
        "colab_type": "text"
      },
      "source": [
        "**ANALYSIS OF UNITED AIRLINES CUSTOMER REVIEWS**"
      ]
    },
    {
      "cell_type": "code",
      "metadata": {
        "id": "BDD411q9RMIC",
        "colab_type": "code",
        "outputId": "1d84ef81-29bf-4b26-84c1-e5ce8945bde0",
        "colab": {
          "base_uri": "https://localhost:8080/",
          "height": 170
        }
      },
      "source": [
        "United_AL = pd.read_csv('united_june15_july12.csv')\n",
        "United_AL.info()"
      ],
      "execution_count": 0,
      "outputs": [
        {
          "output_type": "stream",
          "text": [
            "<class 'pandas.core.frame.DataFrame'>\n",
            "RangeIndex: 1790 entries, 0 to 1789\n",
            "Data columns (total 4 columns):\n",
            "Text                1790 non-null object\n",
            "Tweet created at    1790 non-null object\n",
            "User Location       1184 non-null object\n",
            "User name           1790 non-null object\n",
            "dtypes: object(4)\n",
            "memory usage: 56.0+ KB\n"
          ],
          "name": "stdout"
        }
      ]
    },
    {
      "cell_type": "code",
      "metadata": {
        "id": "ULAgou_UUbMy",
        "colab_type": "code",
        "outputId": "e026d9e1-d037-4817-fe51-6e3543de7355",
        "colab": {
          "base_uri": "https://localhost:8080/",
          "height": 306
        }
      },
      "source": [
        "United_AL['Text'] = United_AL['Text'].apply(deEmojify)\n",
        "United_AL['Text'] = United_AL['Text'].str.replace(\"[#,@,:,::,.,_,-,?,\\,+,(,),',!,//]\", \" \")\n",
        "United_AL['Text'] = United_AL['Text'].str.replace(\"[^a-zA-Z#]\", \" \")\n",
        "United_AL['Text'] = United_AL['Text'].str.lower()\n",
        "United_AL.head()"
      ],
      "execution_count": 0,
      "outputs": [
        {
          "output_type": "execute_result",
          "data": {
            "text/html": [
              "<div>\n",
              "<style scoped>\n",
              "    .dataframe tbody tr th:only-of-type {\n",
              "        vertical-align: middle;\n",
              "    }\n",
              "\n",
              "    .dataframe tbody tr th {\n",
              "        vertical-align: top;\n",
              "    }\n",
              "\n",
              "    .dataframe thead th {\n",
              "        text-align: right;\n",
              "    }\n",
              "</style>\n",
              "<table border=\"1\" class=\"dataframe\">\n",
              "  <thead>\n",
              "    <tr style=\"text-align: right;\">\n",
              "      <th></th>\n",
              "      <th>Text</th>\n",
              "      <th>Tweet created at</th>\n",
              "      <th>User Location</th>\n",
              "      <th>User name</th>\n",
              "    </tr>\n",
              "  </thead>\n",
              "  <tbody>\n",
              "    <tr>\n",
              "      <th>0</th>\n",
              "      <td>on the  nd leg to italy   unitedairlines partn...</td>\n",
              "      <td>2019-07-12 05:55:35</td>\n",
              "      <td>Denver, CO</td>\n",
              "      <td>Fur_Food_Travel</td>\n",
              "    </tr>\n",
              "    <tr>\n",
              "      <th>1</th>\n",
              "      <td>landed   minutes early  now waiting more than ...</td>\n",
              "      <td>2019-07-12 05:22:39</td>\n",
              "      <td>NaN</td>\n",
              "      <td>Jill Irwin</td>\n",
              "    </tr>\n",
              "    <tr>\n",
              "      <th>2</th>\n",
              "      <td>never take  americanairlines lost baggage  no ...</td>\n",
              "      <td>2019-07-12 05:07:43</td>\n",
              "      <td>NaN</td>\n",
              "      <td>Megan Lynn</td>\n",
              "    </tr>\n",
              "    <tr>\n",
              "      <th>3</th>\n",
              "      <td>stuck in chicago on the way to hawaii  no lugg...</td>\n",
              "      <td>2019-07-12 04:24:14</td>\n",
              "      <td>NaN</td>\n",
              "      <td>Angelo Buccat</td>\n",
              "    </tr>\n",
              "    <tr>\n",
              "      <th>4</th>\n",
              "      <td>united i need help   never flying united agai...</td>\n",
              "      <td>2019-07-12 04:24:13</td>\n",
              "      <td>Suburbia, NY</td>\n",
              "      <td>SingleBrownGirl</td>\n",
              "    </tr>\n",
              "  </tbody>\n",
              "</table>\n",
              "</div>"
            ],
            "text/plain": [
              "                                                Text  ...        User name\n",
              "0  on the  nd leg to italy   unitedairlines partn...  ...  Fur_Food_Travel\n",
              "1  landed   minutes early  now waiting more than ...  ...       Jill Irwin\n",
              "2  never take  americanairlines lost baggage  no ...  ...       Megan Lynn\n",
              "3  stuck in chicago on the way to hawaii  no lugg...  ...    Angelo Buccat\n",
              "4   united i need help   never flying united agai...  ...  SingleBrownGirl\n",
              "\n",
              "[5 rows x 4 columns]"
            ]
          },
          "metadata": {
            "tags": []
          },
          "execution_count": 177
        }
      ]
    },
    {
      "cell_type": "code",
      "metadata": {
        "id": "F41qJ90wUbWF",
        "colab_type": "code",
        "colab": {}
      },
      "source": [
        "stop_words_united = stopwords.words('english')\n",
        "united_stopwords = ['https',' unitedairlines','unitedairlines']\n",
        "stop_words_united.extend(united_stopwords)\n",
        "\n",
        "def text_process(raw_text):\n",
        "    ps = PorterStemmer()\n",
        "    nonpunc = ps.stem(raw_text)\n",
        "    return [word for word in nonpunc.split() if word not in stop_words_united]\n",
        "\n",
        "\n",
        "United_AL['Processed_text'] = United_AL['Text'].apply(text_process)\n",
        "United_AL['Processed_text'] = United_AL['Processed_text'].apply(detoken)"
      ],
      "execution_count": 0,
      "outputs": []
    },
    {
      "cell_type": "code",
      "metadata": {
        "id": "RedjsFXWUbTF",
        "colab_type": "code",
        "outputId": "989b3021-b0d9-42e3-fcfb-1783c234981d",
        "colab": {
          "base_uri": "https://localhost:8080/",
          "height": 496
        }
      },
      "source": [
        "text = United_AL['Processed_text']\n",
        "polarity=[]\n",
        "subjectivity=[]\n",
        "for i in text:\n",
        "    blob = TextBlob(i)\n",
        "    sentiment = blob.sentiment\n",
        "    po = sentiment.polarity\n",
        "    polarity.append(po)\n",
        "    sub = sentiment.subjectivity\n",
        "    subjectivity.append(sub)\n",
        "\n",
        "    \n",
        "United_AL['Sentiment'] = polarity\n",
        "United_AL['Subjectivity'] = subjectivity\n",
        "United_AL['Sentiment'] = United_AL['Sentiment'].apply(apply_threshold)\n",
        "United_AL.head()"
      ],
      "execution_count": 0,
      "outputs": [
        {
          "output_type": "execute_result",
          "data": {
            "text/html": [
              "<div>\n",
              "<style scoped>\n",
              "    .dataframe tbody tr th:only-of-type {\n",
              "        vertical-align: middle;\n",
              "    }\n",
              "\n",
              "    .dataframe tbody tr th {\n",
              "        vertical-align: top;\n",
              "    }\n",
              "\n",
              "    .dataframe thead th {\n",
              "        text-align: right;\n",
              "    }\n",
              "</style>\n",
              "<table border=\"1\" class=\"dataframe\">\n",
              "  <thead>\n",
              "    <tr style=\"text-align: right;\">\n",
              "      <th></th>\n",
              "      <th>Text</th>\n",
              "      <th>Tweet created at</th>\n",
              "      <th>User Location</th>\n",
              "      <th>User name</th>\n",
              "      <th>Processed_text</th>\n",
              "      <th>Sentiment</th>\n",
              "      <th>Subjectivity</th>\n",
              "    </tr>\n",
              "  </thead>\n",
              "  <tbody>\n",
              "    <tr>\n",
              "      <th>0</th>\n",
              "      <td>on the  nd leg to italy   unitedairlines partn...</td>\n",
              "      <td>2019-07-12 05:55:35</td>\n",
              "      <td>Denver, CO</td>\n",
              "      <td>Fur_Food_Travel</td>\n",
              "      <td>nd leg italy partnered marvel amp spiderman th...</td>\n",
              "      <td>Neutral</td>\n",
              "      <td>0.0</td>\n",
              "    </tr>\n",
              "    <tr>\n",
              "      <th>1</th>\n",
              "      <td>landed   minutes early  now waiting more than ...</td>\n",
              "      <td>2019-07-12 05:22:39</td>\n",
              "      <td>NaN</td>\n",
              "      <td>Jill Irwin</td>\n",
              "      <td>landed minutes early waiting minutes find crew...</td>\n",
              "      <td>Positive</td>\n",
              "      <td>0.3</td>\n",
              "    </tr>\n",
              "    <tr>\n",
              "      <th>2</th>\n",
              "      <td>never take  americanairlines lost baggage  no ...</td>\n",
              "      <td>2019-07-12 05:07:43</td>\n",
              "      <td>NaN</td>\n",
              "      <td>Megan Lynn</td>\n",
              "      <td>never take americanairlines lost baggage one c...</td>\n",
              "      <td>Neutral</td>\n",
              "      <td>0.0</td>\n",
              "    </tr>\n",
              "    <tr>\n",
              "      <th>3</th>\n",
              "      <td>stuck in chicago on the way to hawaii  no lugg...</td>\n",
              "      <td>2019-07-12 04:24:14</td>\n",
              "      <td>NaN</td>\n",
              "      <td>Angelo Buccat</td>\n",
              "      <td>stuck chicago way hawaii luggage toiletries un...</td>\n",
              "      <td>Negative</td>\n",
              "      <td>1.0</td>\n",
              "    </tr>\n",
              "    <tr>\n",
              "      <th>4</th>\n",
              "      <td>united i need help   never flying united agai...</td>\n",
              "      <td>2019-07-12 04:24:13</td>\n",
              "      <td>Suburbia, NY</td>\n",
              "      <td>SingleBrownGirl</td>\n",
              "      <td>united need help never flying united neveragai...</td>\n",
              "      <td>Neutral</td>\n",
              "      <td>0.0</td>\n",
              "    </tr>\n",
              "  </tbody>\n",
              "</table>\n",
              "</div>"
            ],
            "text/plain": [
              "                                                Text  ... Subjectivity\n",
              "0  on the  nd leg to italy   unitedairlines partn...  ...          0.0\n",
              "1  landed   minutes early  now waiting more than ...  ...          0.3\n",
              "2  never take  americanairlines lost baggage  no ...  ...          0.0\n",
              "3  stuck in chicago on the way to hawaii  no lugg...  ...          1.0\n",
              "4   united i need help   never flying united agai...  ...          0.0\n",
              "\n",
              "[5 rows x 7 columns]"
            ]
          },
          "metadata": {
            "tags": []
          },
          "execution_count": 179
        }
      ]
    },
    {
      "cell_type": "code",
      "metadata": {
        "id": "KUXTYT00UbQK",
        "colab_type": "code",
        "outputId": "81104e81-b73a-4996-f2bc-e6f9c2c72a08",
        "colab": {
          "base_uri": "https://localhost:8080/",
          "height": 68
        }
      },
      "source": [
        "Neutral_UA = len(United_AL['Sentiment'][United_AL['Sentiment']=='Neutral'])\n",
        "Positive_UA = len(United_AL['Sentiment'][United_AL['Sentiment']=='Positive'])\n",
        "Negative_UA = len(United_AL['Sentiment'][United_AL['Sentiment']=='Negative'])\n",
        "print(\"Number of Neutral sentiments:\",Neutral_UA)\n",
        "print(\"Number of Positive sentiments:\",Positive_UA)\n",
        "print(\"Number of Negative sentiments:\",Negative_UA)"
      ],
      "execution_count": 0,
      "outputs": [
        {
          "output_type": "stream",
          "text": [
            "Number of Neutral sentiments: 730\n",
            "Number of Positive sentiments: 624\n",
            "Number of Negative sentiments: 436\n"
          ],
          "name": "stdout"
        }
      ]
    },
    {
      "cell_type": "code",
      "metadata": {
        "id": "4tcTdqqFV_De",
        "colab_type": "code",
        "outputId": "5e874203-3156-4152-8a8b-1ad1ae4747cf",
        "colab": {
          "base_uri": "https://localhost:8080/",
          "height": 336
        }
      },
      "source": [
        "x= ['Neutral','Postive','Negative']\n",
        "y = [Neutral_UA,Positive_UA,Negative_UA]\n",
        "plt.figure(figsize=(10,5))\n",
        "plt.bar(x,y,color = 'cyan')\n",
        "plt.title('CUSTOMERS REVIEWS ON UNITED AIRLINES')\n",
        "plt.show()"
      ],
      "execution_count": 0,
      "outputs": [
        {
          "output_type": "display_data",
          "data": {
            "image/png": "[encoded data removed]",
            "text/plain": [
              "<Figure size 720x360 with 1 Axes>"
            ]
          },
          "metadata": {
            "tags": []
          }
        }
      ]
    },
    {
      "cell_type": "markdown",
      "metadata": {
        "id": "8bcSXNNqSefO",
        "colab_type": "text"
      },
      "source": [
        "**NEUTRAL SENTIMENT PLOT**"
      ]
    },
    {
      "cell_type": "code",
      "metadata": {
        "id": "BPC-GdxPV_G2",
        "colab_type": "code",
        "outputId": "cad28c29-6b49-4135-e2cb-1ffc45cccec6",
        "colab": {
          "base_uri": "https://localhost:8080/",
          "height": 356
        }
      },
      "source": [
        "X=['ALASKA','AMERICAN','DELTA','HAWAIIAN','JETBLUE','SOUTHWEST','UNITED']\n",
        "Y1=[Neutral_AL,Neutral_AA,Neutral_DA,Neutral_HA,Neutral_JB,Neutral_SW,Neutral_UA]\n",
        "plt.figure(figsize=(17,5))\n",
        "plt.bar(X,Y1,label='Neutral sentiment')\n",
        "plt.title('NEUTRAL SENTIMENT PLOT')\n",
        "plt.legend()\n",
        "plt.show()"
      ],
      "execution_count": 0,
      "outputs": [
        {
          "output_type": "display_data",
          "data": {
            "image/png": "[encoded data removed]",
            "text/plain": [
              "<Figure size 1224x360 with 1 Axes>"
            ]
          },
          "metadata": {
            "tags": []
          }
        }
      ]
    },
    {
      "cell_type": "markdown",
      "metadata": {
        "id": "xcwctnuB3WX9",
        "colab_type": "text"
      },
      "source": [
        "**POSITIVE SENTIMENT PLOT**"
      ]
    },
    {
      "cell_type": "code",
      "metadata": {
        "id": "-d3CY2kocIcP",
        "colab_type": "code",
        "outputId": "d64b262c-26d9-480f-c808-9c6908b3cfba",
        "colab": {
          "base_uri": "https://localhost:8080/",
          "height": 356
        }
      },
      "source": [
        "X=['ALASKA','AMERICAN','DELTA','HAWAIIAN','JETBLUE','SOUTHWEST','UNITED']\n",
        "Y1=[Positive_AL,Positive_AA,Positive_DA,Positive_HA,Positive_JB,Positive_SW,Positive_UA]\n",
        "plt.figure(figsize=(17,5))\n",
        "plt.bar(X,Y1,label = 'Postitve sentiment',color='g')\n",
        "plt.title('POSITIVE SENTIMENT PLOT')\n",
        "plt.legend()\n",
        "plt.show()"
      ],
      "execution_count": 0,
      "outputs": [
        {
          "output_type": "display_data",
          "data": {
            "image/png": "[encoded data removed]",
            "text/plain": [
              "<Figure size 1224x360 with 1 Axes>"
            ]
          },
          "metadata": {
            "tags": []
          }
        }
      ]
    },
    {
      "cell_type": "markdown",
      "metadata": {
        "id": "9jKjvlbq3f8H",
        "colab_type": "text"
      },
      "source": [
        "**NEGATIVE SENTIMENT PLOT**"
      ]
    },
    {
      "cell_type": "code",
      "metadata": {
        "id": "SmEgtGmBce2K",
        "colab_type": "code",
        "outputId": "25d41ec7-e2ec-4db8-9f1d-74cdd52f42db",
        "colab": {
          "base_uri": "https://localhost:8080/",
          "height": 356
        }
      },
      "source": [
        "X=['ALASKA','AMERICAN','DELTA','HAWAIIAN','JETBLUE','SOUTHWEST','UNITED']\n",
        "Y3=[Negative_AL,Negative_AA,Negative_DA,Negative_HA,Negative_JB,Negative_SW,Negative_UA]\n",
        "plt.figure(figsize=(17,5))\n",
        "plt.title('NEGATIVE SENTIMENT PLOT')\n",
        "plt.bar(X,Y3,label='Negative sentiment',color='red')\n",
        "plt.legend()\n",
        "plt.show()"
      ],
      "execution_count": 0,
      "outputs": [
        {
          "output_type": "display_data",
          "data": {
            "image/png": "[encoded data removed]",
            "text/plain": [
              "<Figure size 1224x360 with 1 Axes>"
            ]
          },
          "metadata": {
            "tags": []
          }
        }
      ]
    },
    {
      "cell_type": "markdown",
      "metadata": {
        "id": "WEsdEJFm8yUx",
        "colab_type": "text"
      },
      "source": [
        "**COMPARING THE REVIEWS OF  DIFFERENT AIRLINES**"
      ]
    },
    {
      "cell_type": "code",
      "metadata": {
        "id": "HYtZrO-I3scC",
        "colab_type": "code",
        "outputId": "840fb664-a776-4d22-87a0-69372c6a9900",
        "colab": {
          "base_uri": "https://localhost:8080/",
          "height": 886
        }
      },
      "source": [
        "from pylab import *\n",
        "plt.figure(figsize=(15,15))\n",
        "\n",
        "subplot(3,3,1)\n",
        "a_val = [Neutral_AL,Positive_AL,Negative_AL]\n",
        "colors = ['b', 'g', 'r']\n",
        "a_label= ['Neutral','Postive','Negative']\n",
        "explode = (0,0.1,0)\n",
        "plt.pie(a_val, colors=colors, labels=a_label ,explode=explode,counterclock=False, shadow=True)\n",
        "plt.title('ALASKAN AIRLINES',weight='bold')\n",
        "\n",
        "\n",
        "subplot(3,3,2)\n",
        "a1_val = [Neutral_AA,Positive_AA,Negative_AA]\n",
        "colors = ['b', 'g', 'r']\n",
        "a_label= ['Neutral','Postive','Negative']\n",
        "explode = (0,0.1,0)\n",
        "plt.pie(a1_val, colors=colors, labels=a_label ,explode=explode,counterclock=False, shadow=True)\n",
        "plt.title('AMERICAN AIRLINES',weight='bold')\n",
        "\n",
        "\n",
        "subplot(3,3,3)\n",
        "a2_val = [Neutral_DA,Positive_DA,Negative_DA]\n",
        "colors = ['b', 'g', 'r']\n",
        "a_label= ['Neutral','Postive','Negative']\n",
        "explode = (0,0.1,0)\n",
        "plt.pie(a2_val, colors=colors, labels=a_label ,explode=explode,counterclock=False, shadow=True)\n",
        "plt.title('DELTA AIRLINES',weight='bold')\n",
        "\n",
        "\n",
        "\n",
        "subplot(3,3,4)\n",
        "a3_val = [Neutral_HA,Positive_HA,Negative_HA]\n",
        "colors = ['b', 'g', 'r']\n",
        "a_label= ['Neutral','Postive','Negative']\n",
        "explode = (0,0.1,0)\n",
        "plt.pie(a3_val, colors=colors, labels=a_label ,explode=explode,counterclock=False, shadow=True)\n",
        "plt.title('HAWAIIAN AIRLINES',weight='bold')\n",
        "\n",
        "\n",
        "subplot(3,3,5)\n",
        "a4_val = [Neutral_JB,Positive_JB,Negative_JB]\n",
        "colors = ['b', 'g', 'r']\n",
        "a_label= ['Neutral','Postive','Negative']\n",
        "explode = (0,0.1,0)\n",
        "plt.pie(a4_val, colors=colors, labels=a_label ,explode=explode,counterclock=False, shadow=True)\n",
        "plt.title('JETBLUE AIRLINES',weight='bold')\n",
        "\n",
        "\n",
        "subplot(3,3,6)\n",
        "a5_val = [Neutral_SW,Positive_SW,Negative_SW]\n",
        "colors = ['b', 'g', 'r']\n",
        "a_label= ['Neutral','Postive','Negative']\n",
        "explode = (0,0.1,0)\n",
        "plt.pie(a5_val, colors=colors, labels=a_label ,explode=explode,counterclock=False, shadow=True)\n",
        "plt.title('SOUTHWEST AIRLINES',weight='bold')\n",
        "\n",
        "\n",
        "subplot(3,3,8)\n",
        "a6_val = [Neutral_UA,Positive_UA,Negative_UA]\n",
        "colors = ['b', 'g', 'r']\n",
        "a_label= ['Neutral','Postive','Negative']\n",
        "explode = (0,0.1,0)\n",
        "plt.pie(a6_val, colors=colors, labels=a_label ,explode=explode,counterclock=False, shadow=True)\n",
        "plt.title('UNITED AIRLINES',weight='bold')\n",
        "plt.show()"
      ],
      "execution_count": 190,
      "outputs": [
        {
          "output_type": "display_data",
          "data": {
            "image/png": "[encoded data removed]",
            "text/plain": [
              "<Figure size 1080x1080 with 7 Axes>"
            ]
          },
          "metadata": {
            "tags": []
          }
        }
      ]
    },
    {
      "cell_type": "markdown",
      "metadata": {
        "id": "EvrmHqihFRTh",
        "colab_type": "text"
      },
      "source": [
        "**CONCLUSION**\n",
        "\n",
        "\n",
        "Passangers satisfaction is an important aspect for all the airlines and the lack of reliability will affect the customers trust in the company,creates a bad image and also affects the companies profits. Meeting the customer's conditions is essential for customer loyalty and companies should take measures to satisfy the customer needs. \n",
        "\n",
        "Positive reviews(sentiments) in descending order:\n",
        "1.  Alaska Airlines - 56.4%\n",
        "2.  Delta Airlines - 45.5%\n",
        "3. JetBlue Airlines - 38.6%\n",
        "4. Hawaiian Airlines - 37.3%\n",
        "5. United Airlines - 34.8%\n",
        "6. Southwest Airlines - 31.9%\n",
        "7. American Airlines - 31.7%\n",
        "\n",
        "\n",
        "Negative reviews(sentiments) in descending order:\n",
        "1. American Airlines - 26.6%\n",
        "2. United Airlines - 24.5%\n",
        "3. JetBlue Airlines - 18.2%\n",
        "4.  American Airlines - 16.5%\n",
        "5.  Delta Airlines - 15.1%\n",
        "6.  Alaska Airlines - 8.9%\n",
        "7.  Southwest Airlines - 7.7%\n",
        "\n",
        "\n",
        "The findings show that Alaska airlines is ranked no.1 in terms of customers reviews followed by Delta and others. While, American airlines has the worst customer reviews and United airlines has the second poor reviews followed by others. This research finding will give an insight to the different airlines to recall their operating procedures and services to make necessary changes in order to  meet the customer satisfactions and inturn increasing companies profits."
      ]
    }
  ]
}